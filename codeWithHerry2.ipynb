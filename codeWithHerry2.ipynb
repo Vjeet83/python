{
 "cells": [
  {
   "cell_type": "code",
   "execution_count": 15,
   "id": "53ed72c9",
   "metadata": {},
   "outputs": [
    {
     "name": "stdout",
     "output_type": "stream",
     "text": [
      "hello sonu singh shekhawat\n"
     ]
    }
   ],
   "source": [
    "def name(fname , mname = \"singh\" , lname=\"rajput\"):\n",
    "    print(\"hello\",fname , mname, lname)\n",
    " \n",
    "name (fname=\"sonu\",lname='shekhawat')"
   ]
  },
  {
   "cell_type": "markdown",
   "id": "ff6000e3",
   "metadata": {},
   "source": []
  },
  {
   "cell_type": "markdown",
   "id": "bd11a4be",
   "metadata": {},
   "source": []
  },
  {
   "cell_type": "code",
   "execution_count": 30,
   "id": "325566ce",
   "metadata": {
    "scrolled": true
   },
   "outputs": [
    {
     "name": "stdout",
     "output_type": "stream",
     "text": [
      "12\n"
     ]
    }
   ],
   "source": [
    "def sum(a,b,c):\n",
    "  print(a+b+c)\n",
    "sum(4,5,3) "
   ]
  },
  {
   "cell_type": "code",
   "execution_count": 4,
   "id": "3e24afb5",
   "metadata": {},
   "outputs": [
    {
     "name": "stdout",
     "output_type": "stream",
     "text": [
      "15\n"
     ]
    }
   ],
   "source": [
    "def sum(a=4,b=7,c=9):   # it is just a default value\n",
    "   print(a+b+c)\n",
    "sum(5,5,5)    "
   ]
  },
  {
   "cell_type": "code",
   "execution_count": 46,
   "id": "3c09fb5d",
   "metadata": {},
   "outputs": [
    {
     "name": "stdout",
     "output_type": "stream",
     "text": [
      "<class 'list'>\n",
      "['lakshman', 'hanuman']\n"
     ]
    }
   ],
   "source": [
    "lst=[\"ram\",\"sita\",\"hanuman\",\"lakshman\"]\n",
    "print(type(lst))\n",
    "print(lst[-1:-3:-1])"
   ]
  },
  {
   "cell_type": "code",
   "execution_count": 5,
   "id": "c9cd8e6a",
   "metadata": {},
   "outputs": [
    {
     "name": "stdout",
     "output_type": "stream",
     "text": [
      "[12, 34, 13, 56, 28]\n",
      "[12, 34, 13, 56, 28, 25]\n",
      "None\n",
      "[12, 13, 25, 28, 34, 56]\n",
      "[56, 34, 28, 25, 13, 12]\n"
     ]
    },
    {
     "data": {
      "text/plain": [
       "3"
      ]
     },
     "execution_count": 5,
     "metadata": {},
     "output_type": "execute_result"
    }
   ],
   "source": [
    "lst=[12,34,13,56,28]\n",
    "print(lst)\n",
    "lst.append(25)\n",
    "print(lst)\n",
    "print(lst.sort())     # ?\n",
    "lst.sort()\n",
    "print(lst)\n",
    "lst.sort(reverse=True)\n",
    "print(lst)\n",
    "lst.index(25)    # it type the index no of  num 25\n",
    "\n",
    "\n",
    "\n"
   ]
  },
  {
   "cell_type": "code",
   "execution_count": 8,
   "id": "3e80103b",
   "metadata": {},
   "outputs": [
    {
     "name": "stdout",
     "output_type": "stream",
     "text": [
      "type of m is :  <class 'list'>\n",
      "firstly M is :  [34, 45, 76, 26, 84, 'hurre', 15, 29, 40]\n",
      "after insert 3,100  [34, 45, 76, 100, 26, 84, 'hurre', 15, 29, 40]\n",
      "[34, 45, 76, 100, 26, 84, 'hurre', 15, 29, 40, 234, 456, 678, 89, 234, 900]\n",
      "[234, 456, 678, 89, 234, 900, 34, 45, 76, 26, 84, 'hurre', 15, 29, 40]\n",
      "['bum', 45, 76, 26, 84, 'hurre', 15, 29, 40]\n"
     ]
    }
   ],
   "source": [
    "x=[34,45,76,26,84,\"hurre\",15,29,40]\n",
    "m=x.copy()\n",
    "print(\"type of m is : \" ,type(m))\n",
    "print(\"firstly M is : \",m)\n",
    "m.insert(3,100)\n",
    "print(\"after insert 3,100 \",m)\n",
    "y=[234,456,678,89,234,900]\n",
    "m.extend(y)     #isse last m judege or m bhi change ho jayega.\n",
    "print(m)\n",
    "k=y+x      #isse x or y m change nhi hoga or jo list pahle likhi h uske eliment pahle ayege\n",
    "print(k)\n",
    "x[0]=\"bum\"      #replace krne k lie\n",
    "print(x)\n"
   ]
  },
  {
   "cell_type": "code",
   "execution_count": 88,
   "id": "7d21e907",
   "metadata": {},
   "outputs": [
    {
     "name": "stdout",
     "output_type": "stream",
     "text": [
      "(23, 45, 67, 'ullu', 943)\n",
      "23\n",
      "yes 67 is present in tp\n",
      "(45, 67, 'ullu')\n"
     ]
    }
   ],
   "source": [
    "tp=(23,45,67,\"ullu\",943,)\n",
    "print(tp)\n",
    "print(tp[0])\n",
    "if 67 in tp:\n",
    "    print(\"yes 67 is present in tp\")\n",
    "tp2=tp[1:4]\n",
    "print(tp2)"
   ]
  },
  {
   "cell_type": "code",
   "execution_count": 90,
   "id": "2d53b3d0",
   "metadata": {},
   "outputs": [
    {
     "name": "stdout",
     "output_type": "stream",
     "text": [
      "<class 'int'>\n",
      "<class 'tuple'>\n"
     ]
    }
   ],
   "source": [
    "x=(45)\n",
    "print(type(x))\n",
    "y=(45,)\n",
    "print(type(y))"
   ]
  },
  {
   "cell_type": "code",
   "execution_count": 44,
   "id": "6b8c9892",
   "metadata": {},
   "outputs": [
    {
     "name": "stdout",
     "output_type": "stream",
     "text": [
      "15:23:59\n"
     ]
    }
   ],
   "source": [
    "import time \n",
    "t = time.strftime(\"%H:%M:%S\")\n",
    "print(t)"
   ]
  },
  {
   "cell_type": "code",
   "execution_count": 45,
   "id": "b27e98c0",
   "metadata": {},
   "outputs": [
    {
     "name": "stdout",
     "output_type": "stream",
     "text": [
      "15\n",
      "good after noon\n"
     ]
    }
   ],
   "source": [
    "h=int(time.strftime(\"%H\"))\n",
    "print(h)\n",
    "if h>0 and h<12:\n",
    "    print(\"good morning\")\n",
    "elif h>=12 and h<19:\n",
    "    print(\"good after noon\")\n",
    "else :\n",
    "    print(\"good night\")"
   ]
  },
  {
   "cell_type": "code",
   "execution_count": 9,
   "id": "682113d7",
   "metadata": {},
   "outputs": [
    {
     "name": "stdout",
     "output_type": "stream",
     "text": [
      "CPU times: total: 0 ns\n",
      "Wall time: 0 ns\n"
     ]
    }
   ],
   "source": [
    "%%time\n",
    "#ye kisi process ko pura krane m cpu dvara lia gya time batata h.\n"
   ]
  },
  {
   "cell_type": "code",
   "execution_count": null,
   "id": "c42629df",
   "metadata": {},
   "outputs": [],
   "source": [
    "\n",
    "a=int(input())\n",
    "# while(a):\n",
    "#    if a>=1 and a<=4:\n",
    "    \n",
    "#     if a==1:\n",
    "#          print(\"wrong\")\n",
    "#          break\n",
    "#     elif a==2:\n",
    "#          print(\"wrong\")\n",
    "#          break   \n",
    "#     elif a==3:\n",
    "#          print(\"wrong\")\n",
    "#          break   \n",
    "#     else:\n",
    "#          print(\"right\")\n",
    "#          break   \n",
    "#    else:\n",
    "#       a=int(input())\n",
    "    \n",
    "    \n",
    "\n",
    "    \n",
    "    "
   ]
  },
  {
   "cell_type": "code",
   "execution_count": 14,
   "id": "b799a93e",
   "metadata": {},
   "outputs": [
    {
     "name": "stdout",
     "output_type": "stream",
     "text": [
      "question num.: 1\n",
      "Enter Your Number :6\n",
      "Enter Your again input :8\n",
      "Enter Your again input :8\n",
      "Enter Your again input :12\n",
      "Enter Your again input :21\n",
      "Enter Your again input :2\n",
      "wrong\n"
     ]
    }
   ],
   "source": [
    "def que():\n",
    " a = int(input(\"Enter Your Number :\"))\n",
    "\n",
    " while(a):\n",
    "   if a>=1 and a<=4:\n",
    "    \n",
    "    if a==1:\n",
    "         print(\"wrong\")\n",
    "         rslt=1    \n",
    "         break\n",
    "    elif a==2:\n",
    "         print(\"wrong\")\n",
    "         break   \n",
    "    elif a==3:\n",
    "         print(\"wrong\")\n",
    "         break   \n",
    "    else:\n",
    "         print(\"right\")\n",
    "         break   \n",
    "   else:\n",
    "      a=int(input(\"Enter Your again input :\"))\n",
    "\n",
    "print(\"question num.: 1\")\n",
    "que()\n",
    "    \n"
   ]
  },
  {
   "cell_type": "code",
   "execution_count": null,
   "id": "2a832fbe",
   "metadata": {},
   "outputs": [],
   "source": [
    "                                   f strings\n"
   ]
  },
  {
   "cell_type": "code",
   "execution_count": 13,
   "id": "47021e65",
   "metadata": {},
   "outputs": [
    {
     "name": "stdout",
     "output_type": "stream",
     "text": [
      "hello myy name is {name} and i am form {country}\n",
      "hello myy name is vishvajeet and i am form india\n",
      "hello myy name is {name} and i am form {country}\n"
     ]
    }
   ],
   "source": [
    "name= \"vishvajeet\"\n",
    "country= \"india\"\n",
    "print(\"hello myy name is {name} and i am form {country}\")\n",
    "print(f\"hello myy name is {name} and i am form {country}\")\n",
    "print(f\"hello myy name is {{name}} and i am form {{country}}\")"
   ]
  },
  {
   "cell_type": "code",
   "execution_count": 15,
   "id": "dc76d546",
   "metadata": {},
   "outputs": [
    {
     "name": "stdout",
     "output_type": "stream",
     "text": [
      "you have to pay 1234\n"
     ]
    }
   ],
   "source": [
    "# bill = 1234\n",
    "print(f\"you have to pay {bill}\")"
   ]
  },
  {
   "cell_type": "code",
   "execution_count": 21,
   "id": "c26aa668",
   "metadata": {},
   "outputs": [
    {
     "name": "stdout",
     "output_type": "stream",
     "text": [
      "you have to pay 45\n",
      "you have to pay 105\n",
      "you have to pay 3300\n"
     ]
    }
   ],
   "source": [
    "bill=45\n",
    "print(f\"you have to pay {bill}\")\n",
    "bill =40*2+25\n",
    "print(f\"you have to pay {bill}\")\n",
    "a=55\n",
    "b=60\n",
    "print(f\"you have to pay {a*b}\")"
   ]
  },
  {
   "cell_type": "code",
   "execution_count": 16,
   "id": "d7620f6c",
   "metadata": {},
   "outputs": [],
   "source": [
    "#             doc string\n",
    "    "
   ]
  },
  {
   "cell_type": "code",
   "execution_count": 25,
   "id": "ccb9ef31",
   "metadata": {},
   "outputs": [
    {
     "name": "stdout",
     "output_type": "stream",
     "text": [
      "25\n",
      "gajr lelo muli le lo\n"
     ]
    }
   ],
   "source": [
    "def exampl(a):\n",
    "    '''gajr lelo muli le lo'''\n",
    "    print (a**2)\n",
    "exampl(5)\n",
    "print(exampl.__doc__)"
   ]
  },
  {
   "cell_type": "code",
   "execution_count": 26,
   "id": "8d6f4f88",
   "metadata": {},
   "outputs": [
    {
     "name": "stdout",
     "output_type": "stream",
     "text": [
      "The Zen of Python, by Tim Peters\n",
      "\n",
      "Beautiful is better than ugly.\n",
      "Explicit is better than implicit.\n",
      "Simple is better than complex.\n",
      "Complex is better than complicated.\n",
      "Flat is better than nested.\n",
      "Sparse is better than dense.\n",
      "Readability counts.\n",
      "Special cases aren't special enough to break the rules.\n",
      "Although practicality beats purity.\n",
      "Errors should never pass silently.\n",
      "Unless explicitly silenced.\n",
      "In the face of ambiguity, refuse the temptation to guess.\n",
      "There should be one-- and preferably only one --obvious way to do it.\n",
      "Although that way may not be obvious at first unless you're Dutch.\n",
      "Now is better than never.\n",
      "Although never is often better than *right* now.\n",
      "If the implementation is hard to explain, it's a bad idea.\n",
      "If the implementation is easy to explain, it may be a good idea.\n",
      "Namespaces are one honking great idea -- let's do more of those!\n"
     ]
    }
   ],
   "source": [
    ">>> import this"
   ]
  },
  {
   "cell_type": "code",
   "execution_count": 20,
   "id": "86726114",
   "metadata": {},
   "outputs": [
    {
     "name": "stdout",
     "output_type": "stream",
     "text": [
      "5\n",
      "120\n"
     ]
    }
   ],
   "source": [
    "def factorial(n):\n",
    " if (n==0 or n==1):\n",
    "    return 1\n",
    " else:\n",
    "    return n*factorial(n-1)\n",
    "n=int(input())\n",
    "print(factorial(n))"
   ]
  },
  {
   "cell_type": "code",
   "execution_count": null,
   "id": "bfcadec5",
   "metadata": {},
   "outputs": [],
   "source": [
    "                                        * set*"
   ]
  },
  {
   "cell_type": "code",
   "execution_count": 10,
   "id": "08fdbed9",
   "metadata": {
    "scrolled": true
   },
   "outputs": [
    {
     "name": "stdout",
     "output_type": "stream",
     "text": [
      "<class 'set'>\n",
      "<class 'dict'>\n"
     ]
    }
   ],
   "source": [
    "s=set()\n",
    "print(type(s))\n",
    "r={}\n",
    "print(type(r))"
   ]
  },
  {
   "cell_type": "code",
   "execution_count": 16,
   "id": "ba74b2e0",
   "metadata": {},
   "outputs": [
    {
     "name": "stdout",
     "output_type": "stream",
     "text": [
      "<class 'set'>\n"
     ]
    }
   ],
   "source": [
    "w={45,75,\"jebvr\",76,True}\n",
    "print(type(w))"
   ]
  },
  {
   "cell_type": "code",
   "execution_count": 21,
   "id": "5a5f5f3b",
   "metadata": {},
   "outputs": [
    {
     "name": "stdout",
     "output_type": "stream",
     "text": [
      "{2, 3, 4, 5, 7}\n",
      "<class 'set'>\n"
     ]
    }
   ],
   "source": [
    "s={2,3,2,3,4,2,5,3,7,5}\n",
    "print(s)\n",
    "print(type(s))\n",
    "#SET M {} use hota h or *isme koi b content repet nhi hota*"
   ]
  },
  {
   "cell_type": "code",
   "execution_count": 24,
   "id": "85d37c7d",
   "metadata": {},
   "outputs": [
    {
     "name": "stdout",
     "output_type": "stream",
     "text": [
      "<class 'set'>\n",
      "<class 'set'>\n",
      "union of s1 and s2 : {'city', 34, 67, 'kure', 'gta', 45, 78, 20, 56, 30, 'kuru'}\n",
      "{34, 'gta', 45, 'kuru'}\n"
     ]
    }
   ],
   "source": [
    "s1={45,56,67,78,\"kuru\",34,45,\"kuru\",\"kure\",\"gta\",67}\n",
    "print(type(s1))\n",
    "s2={45,45,34,20,30,\"kuru\",\"kuru\",\"gta\",\"city\"}\n",
    "print(type(s2))\n",
    "x=(s1.union(s2))\n",
    "print(\"union of s1 and s2 :\",x)\n",
    "print(s2.intersection(s1))\n"
   ]
  },
  {
   "cell_type": "code",
   "execution_count": 23,
   "id": "694c9ed1",
   "metadata": {},
   "outputs": [
    {
     "name": "stdout",
     "output_type": "stream",
     "text": [
      "{34, 'gta', 45, 'kuru'}\n",
      "{'city', 20, 30}\n"
     ]
    }
   ],
   "source": [
    "s1={45,56,67,78,\"kuru\",34,45,\"kuru\",\"kure\",\"gta\",67}\n",
    "\n",
    "s2={45,45,34,20,30,\"kuru\",\"kuru\",\"gta\",\"city\"}\n",
    "\n",
    "s1.intersection_update(s2)\n",
    "print(s1)\n",
    "'''union me dono set ke union vale eliment tisre teprary set m ate h mtlb koi \n",
    "change nhi hota set m.\n",
    "pr ().union_update() me phle likhe hue set m dusre vale set k eliment aa\n",
    "jate h mtlb set 1 change ho jata h \n",
    "*islie hi set b mutable h*\n",
    "same chij intersection or ().intersection_upate() m hoti h'''\n",
    "y= s1.symmetric_difference(s2) #isme dono k intersection k alava dusre content ae h\n",
    "print(y)  "
   ]
  },
  {
   "cell_type": "code",
   "execution_count": 14,
   "id": "8cacc470",
   "metadata": {},
   "outputs": [
    {
     "name": "stdout",
     "output_type": "stream",
     "text": [
      "False\n",
      "True\n",
      "True\n",
      "{34, 'kure', 56, 'gta', 'kuru', 45}\n",
      "{'kure', 56, 'gta', 'kuru', 45}\n"
     ]
    }
   ],
   "source": [
    "s1={45,56,67,78,\"kuru\",34,45,\"kuru\",\"kure\",\"gta\",67}\n",
    "s2={45,45,34,20,30,\"kuru\",\"kuru\",\"gta\",\"city\"}\n",
    "s3={45,56,\"kuru\",34,\"gta\"}\n",
    "print(s1.issubset(s2))\n",
    "print(s3.issubset(s1))\n",
    "print(s1.issuperset(s3))\n",
    "s3.isdisjoint(s2)\n",
    "s3.add(\"kure\")\n",
    "print(s3)\n",
    "s3.remove(34)\n",
    "print(s3)"
   ]
  },
  {
   "cell_type": "code",
   "execution_count": 40,
   "id": "13f49a2d",
   "metadata": {},
   "outputs": [
    {
     "name": "stdout",
     "output_type": "stream",
     "text": [
      "type of (4) :  <class 'int'>\n",
      "type of (4) :  <class 'str'>\n",
      "type of () :  <class 'tuple'>\n",
      "type of (4,) :  <class 'tuple'>\n",
      "type of [4] :  <class 'list'>\n",
      "type of {} :  <class 'dict'>\n",
      "type of {4} :  <class 'set'>\n"
     ]
    }
   ],
   "source": [
    "x=(4)\n",
    "print(\"type of (4) : \",type(x))\n",
    "x=(\"tuku\")\n",
    "print(\"type of (4) : \",type(x))\n",
    "t=()\n",
    "print(\"type of () : \",type(t))\n",
    "u=(4,)\n",
    "print(\"type of (4,) : \",type(u))\n",
    "y=[4]\n",
    "print(\"type of [4] : \",type(y))\n",
    "z={}\n",
    "print(\"type of {} : \",type(z))\n",
    "v={4}\n",
    "print(\"type of {4} : \",type(v))\n"
   ]
  },
  {
   "cell_type": "code",
   "execution_count": null,
   "id": "d0293101",
   "metadata": {},
   "outputs": [],
   "source": []
  },
  {
   "cell_type": "code",
   "execution_count": 33,
   "id": "0749f639",
   "metadata": {},
   "outputs": [
    {
     "name": "stdout",
     "output_type": "stream",
     "text": [
      "type of dic :  <class 'dict'>\n",
      "call value of \" name \" key :  vjeet\n",
      "call value of \" name \" key by \"get \" mathod :  vjeet\n",
      "print keys of dic      :  dict_keys(['name', 'age', 'city'])\n",
      "print all values of dic :             dict_values(['vjeet', 25, 'jaipur'])\n",
      "vjeet\n",
      "25\n",
      "jaipur\n",
      "for the key name the value is vjeet\n",
      "for the key age the value is 25\n",
      "for the key city the value is jaipur\n"
     ]
    }
   ],
   "source": [
    "dic={'name':'vjeet', 'age':25,'city':'jaipur'}\n",
    "print(\"type of dic : \",type(dic)) \n",
    "print(\"call value of \\\" name \\\" key : \",dic['name'])     #key exist nhi kre to ye error dega\n",
    "print(\"call value of \\\" name \\\" key by \\\"get \\\" mathod : \",dic.get('name')) #key exist na kre to ye error nhi dega\n",
    "print(\"print keys of dic      : \" ,dic.keys())\n",
    "print(\"print all values of dic :            \" ,dic.values())\n",
    "for key in dic.keys():\n",
    "    print(dic[key])\n",
    "for key,value in dic.items():\n",
    "    print(f\"for the key {key} the value is {value}\")"
   ]
  },
  {
   "cell_type": "code",
   "execution_count": 48,
   "id": "73274ee2",
   "metadata": {},
   "outputs": [
    {
     "name": "stdout",
     "output_type": "stream",
     "text": [
      "{111: 45, 112: 43, 113: 42, 114: 34, 115: 35, 116: 48, 117: 39}\n",
      "{111: 45, 112: 43, 114: 34, 115: 35, 116: 48, 117: 39}\n"
     ]
    },
    {
     "data": {
      "text/plain": [
       "(117, 39)"
      ]
     },
     "execution_count": 48,
     "metadata": {},
     "output_type": "execute_result"
    }
   ],
   "source": [
    "ep1= {111:45, 112:43, 113:42, 114:34}\n",
    "ep2= {115:35, 116:48,117:39}\n",
    "ep1.update(ep2)\n",
    "print(ep1)\n",
    "ep1.pop(113)\n",
    "print(ep1)\n",
    "ep1.popitem()  #isse last term delet ho jati h\n",
    "\n"
   ]
  },
  {
   "cell_type": "markdown",
   "id": "0583b557",
   "metadata": {},
   "source": [
    "#                            error heandling  \n",
    "##                             try:except:\n",
    " "
   ]
  },
  {
   "cell_type": "code",
   "execution_count": 1,
   "id": "09a0ce0c",
   "metadata": {},
   "outputs": [
    {
     "name": "stdout",
     "output_type": "stream",
     "text": [
      "enter an integer:6\n",
      "<class 'list'>\n"
     ]
    },
    {
     "ename": "NameError",
     "evalue": "name 'valueError' is not defined",
     "output_type": "error",
     "traceback": [
      "\u001b[1;31m---------------------------------------------------------------------------\u001b[0m",
      "\u001b[1;31mIndexError\u001b[0m                                Traceback (most recent call last)",
      "Cell \u001b[1;32mIn[1], line 5\u001b[0m\n\u001b[0;32m      4\u001b[0m     \u001b[38;5;28mprint\u001b[39m(\u001b[38;5;28mtype\u001b[39m(a))\n\u001b[1;32m----> 5\u001b[0m     \u001b[38;5;28mprint\u001b[39m(\u001b[43ma\u001b[49m\u001b[43m[\u001b[49m\u001b[43mnum\u001b[49m\u001b[43m]\u001b[49m)\n\u001b[0;32m      6\u001b[0m \u001b[38;5;28;01mexcept\u001b[39;00m valueError:\n",
      "\u001b[1;31mIndexError\u001b[0m: list index out of range",
      "\nDuring handling of the above exception, another exception occurred:\n",
      "\u001b[1;31mNameError\u001b[0m                                 Traceback (most recent call last)",
      "Cell \u001b[1;32mIn[1], line 6\u001b[0m\n\u001b[0;32m      4\u001b[0m     \u001b[38;5;28mprint\u001b[39m(\u001b[38;5;28mtype\u001b[39m(a))\n\u001b[0;32m      5\u001b[0m     \u001b[38;5;28mprint\u001b[39m(a[num])\n\u001b[1;32m----> 6\u001b[0m \u001b[38;5;28;01mexcept\u001b[39;00m \u001b[43mvalueError\u001b[49m:\n\u001b[0;32m      7\u001b[0m     \u001b[38;5;28mprint\u001b[39m(\u001b[38;5;124m\"\u001b[39m\u001b[38;5;124mnumbeer entered is not an integer.\u001b[39m\u001b[38;5;124m\"\u001b[39m)\n\u001b[0;32m      9\u001b[0m \u001b[38;5;28;01mexcept\u001b[39;00m \u001b[38;5;167;01mIndexError\u001b[39;00m:\n",
      "\u001b[1;31mNameError\u001b[0m: name 'valueError' is not defined"
     ]
    }
   ],
   "source": [
    "try:\n",
    "    num=int(input(\"enter an integer:\"))\n",
    "    a= [6,3]\n",
    "    print(type(a))\n",
    "    print(a[num])\n",
    "except valueError:\n",
    "    print(\"numbeer entered is not an integer.\")\n",
    "    \n",
    "except IndexError:\n",
    "    print(\"index Error\")"
   ]
  },
  {
   "cell_type": "code",
   "execution_count": 3,
   "id": "909db7e4",
   "metadata": {},
   "outputs": [
    {
     "name": "stdout",
     "output_type": "stream",
     "text": [
      "<class 'list'>\n"
     ]
    }
   ],
   "source": [
    "question=[\"what is your favrt game\",\"hockey\",\"cricket\",\"basketball\",\"tenish\"]\n"
   ]
  },
  {
   "cell_type": "code",
   "execution_count": 12,
   "id": "e5a07837",
   "metadata": {},
   "outputs": [
    {
     "name": "stdout",
     "output_type": "stream",
     "text": [
      "enter a num btw 4 and 9: 3\n"
     ]
    },
    {
     "ename": "ValueError",
     "evalue": "num is not btw 4 and 9",
     "output_type": "error",
     "traceback": [
      "\u001b[1;31m---------------------------------------------------------------------------\u001b[0m",
      "\u001b[1;31mValueError\u001b[0m                                Traceback (most recent call last)",
      "Cell \u001b[1;32mIn[12], line 3\u001b[0m\n\u001b[0;32m      1\u001b[0m a\u001b[38;5;241m=\u001b[39m \u001b[38;5;28mint\u001b[39m(\u001b[38;5;28minput\u001b[39m(\u001b[38;5;124m\"\u001b[39m\u001b[38;5;124menter a num btw 4 and 9: \u001b[39m\u001b[38;5;124m\"\u001b[39m))\n\u001b[0;32m      2\u001b[0m \u001b[38;5;28;01mif\u001b[39;00m (a\u001b[38;5;241m<\u001b[39m\u001b[38;5;241m4\u001b[39m \u001b[38;5;129;01mor\u001b[39;00m a\u001b[38;5;241m>\u001b[39m\u001b[38;5;241m9\u001b[39m):\n\u001b[1;32m----> 3\u001b[0m     \u001b[38;5;28;01mraise\u001b[39;00m \u001b[38;5;167;01mValueError\u001b[39;00m(\u001b[38;5;124m\"\u001b[39m\u001b[38;5;124mnum is not btw 4 and 9\u001b[39m\u001b[38;5;124m\"\u001b[39m)\n",
      "\u001b[1;31mValueError\u001b[0m: num is not btw 4 and 9"
     ]
    }
   ],
   "source": [
    "a= int(input(\"enter a num btw 4 and 9: \"))\n",
    "if (a<4 or a>9):\n",
    "    raise ValueError(\"num is not btw 4 and 9\")"
   ]
  },
  {
   "cell_type": "code",
   "execution_count": 16,
   "id": "a0587d8d",
   "metadata": {},
   "outputs": [
    {
     "name": "stdout",
     "output_type": "stream",
     "text": [
      "<class 'list'>\n",
      "<class 'list'>\n"
     ]
    }
   ],
   "source": [
    "questions=[\n",
    "    [\n",
    "       \"what is your favrt game\",\"hockey\",\"cricket\",\"basketball\",\"tenish\" \n",
    "    ],\n",
    "    [\n",
    "        \"what is your favrt game\",\"hockey\",\"cricket\",\"basketball\",\"tenish\"\n",
    "    ],\n",
    "    [\n",
    "      \"what is your favrt game\",\"hockey\",\"cricket\",\"basketball\",\"tenish\"   \n",
    "    ],\n",
    "    [\n",
    "        \"what is your favrt game\",\"hockey\",\"cricket\",\"basketball\",\"tenish\"\n",
    "    ],\n",
    "    [\n",
    "        \"what is your favrt game\",\"hockey\",\"cricket\",\"basketball\",\"tenish\"\n",
    "    ],\n",
    "    [\n",
    "        \"what is your favrt game\",\"hockey\",\"cricket\",\"basketball\",\"tenish\"\n",
    "    ],\n",
    "    [\n",
    "        \"what is your favrt game\",\"hockey\",\"cricket\",\"basketball\",\"tenish\"\n",
    "    ]\n",
    "]\n",
    "levels= [1000,2000,3000,5000,10000,20000,40000,80000,160000]\n",
    "for i in range(0,len(questions)):\n",
    "    question=questions[i]\n",
    "    print(f\"question for rs.{levels[i]}\")\n",
    "    print(f\"a.{question[1]}              b.{question[2]})\n",
    "    print(f\"c.{question[3]}              d.{question[4]})\n",
    "          "
   ]
  },
  {
   "cell_type": "markdown",
   "id": "675c620b",
   "metadata": {},
   "source": [
    "##### "
   ]
  }
 ],
 "metadata": {
  "kernelspec": {
   "display_name": "Python 3 (ipykernel)",
   "language": "python",
   "name": "python3"
  },
  "language_info": {
   "codemirror_mode": {
    "name": "ipython",
    "version": 3
   },
   "file_extension": ".py",
   "mimetype": "text/x-python",
   "name": "python",
   "nbconvert_exporter": "python",
   "pygments_lexer": "ipython3",
   "version": "3.10.9"
  }
 },
 "nbformat": 4,
 "nbformat_minor": 5
}
