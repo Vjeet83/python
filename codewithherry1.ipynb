{
 "cells": [
  {
   "cell_type": "code",
   "execution_count": 1,
   "id": "12fbd600",
   "metadata": {},
   "outputs": [
    {
     "name": "stdout",
     "output_type": "stream",
     "text": [
      "haye jeet 6 7\n"
     ]
    }
   ],
   "source": [
    "print(\"haye jeet\", 6 ,7)"
   ]
  },
  {
   "cell_type": "code",
   "execution_count": 3,
   "id": "5b49a6f8",
   "metadata": {},
   "outputs": [
    {
     "name": "stdout",
     "output_type": "stream",
     "text": [
      "a\n"
     ]
    }
   ],
   "source": [
    "a=complex(8,2)\n",
    "print(\"a\")"
   ]
  },
  {
   "cell_type": "code",
   "execution_count": 1,
   "id": "293f2e2d",
   "metadata": {},
   "outputs": [
    {
     "name": "stdout",
     "output_type": "stream",
     "text": [
      "(8+2j)\n"
     ]
    }
   ],
   "source": [
    "a=complex(8,2)\n",
    "print(a)"
   ]
  },
  {
   "cell_type": "code",
   "execution_count": 4,
   "id": "f639c51d",
   "metadata": {},
   "outputs": [
    {
     "name": "stdout",
     "output_type": "stream",
     "text": [
      "hello\n"
     ]
    }
   ],
   "source": [
    "print(\"hello\")"
   ]
  },
  {
   "cell_type": "code",
   "execution_count": 5,
   "id": "b6a75bb9",
   "metadata": {},
   "outputs": [
    {
     "name": "stdout",
     "output_type": "stream",
     "text": [
      "30\n"
     ]
    }
   ],
   "source": [
    "x=10\n",
    "y=20\n",
    "print(x+y)"
   ]
  },
  {
   "cell_type": "code",
   "execution_count": 9,
   "id": "23dd5bf6",
   "metadata": {},
   "outputs": [
    {
     "name": "stdout",
     "output_type": "stream",
     "text": [
      "3\n",
      "27\n"
     ]
    }
   ],
   "source": [
    "x=int(input())\n",
    "y=x**3\n",
    "print(y)"
   ]
  },
  {
   "cell_type": "code",
   "execution_count": 11,
   "id": "13c6223e",
   "metadata": {},
   "outputs": [
    {
     "name": "stdout",
     "output_type": "stream",
     "text": [
      "5\n",
      "0 5\n",
      "1 5\n",
      "2 5\n",
      "3 5\n",
      "4 5\n"
     ]
    }
   ],
   "source": [
    "x=int(input())\n",
    "for i in range(x):\n",
    "    print(i,x)"
   ]
  },
  {
   "cell_type": "code",
   "execution_count": 13,
   "id": "e667312f",
   "metadata": {},
   "outputs": [
    {
     "name": "stdout",
     "output_type": "stream",
     "text": [
      "1.25\n",
      "1\n"
     ]
    }
   ],
   "source": [
    "print(5/4)\n",
    "print(5//4)"
   ]
  },
  {
   "cell_type": "code",
   "execution_count": 21,
   "id": "8953d4a4",
   "metadata": {},
   "outputs": [
    {
     "name": "stdout",
     "output_type": "stream",
     "text": [
      "12\n",
      "9\n",
      "*\n",
      "108\n"
     ]
    }
   ],
   "source": [
    "x=int(input())\n",
    "y=int(input())\n",
    "op=input()    #(+,-,*,/) \n",
    "if(op ==\"+\"):\n",
    "    print(x+y)\n",
    "elif (op ==\"-\"):\n",
    "    print(x-y)\n",
    "elif(op ==\"*\"):\n",
    "    print(x*y)\n",
    "else:\n",
    "    print(x/y)"
   ]
  },
  {
   "cell_type": "code",
   "execution_count": 7,
   "id": "822e2f95",
   "metadata": {},
   "outputs": [
    {
     "name": "stdout",
     "output_type": "stream",
     "text": [
      "vjeet\n"
     ]
    }
   ],
   "source": [
    "a= \"v\"\n",
    "b= \"jeet\"\n",
    "print(a+b,sep=\"~\")"
   ]
  },
  {
   "cell_type": "code",
   "execution_count": 35,
   "id": "0b588562",
   "metadata": {},
   "outputs": [
    {
     "name": "stdout",
     "output_type": "stream",
     "text": [
      "3\n"
     ]
    }
   ],
   "source": [
    "a=\"1\"\n",
    "b=\"2\"\n",
    "print(int(a)+int(b))"
   ]
  },
  {
   "cell_type": "code",
   "execution_count": 36,
   "id": "f666697c",
   "metadata": {},
   "outputs": [
    {
     "name": "stdout",
     "output_type": "stream",
     "text": [
      "he said,\"i am not kind\"\n"
     ]
    }
   ],
   "source": [
    "talk= \"he said,\\\"i am not kind\\\"\"\n",
    "print(talk)"
   ]
  },
  {
   "cell_type": "code",
   "execution_count": 37,
   "id": "9a1962a5",
   "metadata": {},
   "outputs": [
    {
     "name": "stdout",
     "output_type": "stream",
     "text": [
      " i said,\"he feel jelous\"\n"
     ]
    }
   ],
   "source": [
    "talk= ' i said,\"he feel jelous\"'\n",
    "print(talk)"
   ]
  },
  {
   "cell_type": "code",
   "execution_count": 38,
   "id": "ecf05fd9",
   "metadata": {},
   "outputs": [
    {
     "name": "stdout",
     "output_type": "stream",
     "text": [
      "Latest Vacancies Near You. High Paying Jobs For Freshers And Experienced. Apply Now. Search For business apps collaboration workspace system work in united states. Get Job Alert. Part Time Jobs. Appl\n",
      "y Online For Jobs. Current Job Openings. Fresher Jobs. Search For The Right Jobs.\n",
      "Jobs In California\n",
      "·\n",
      "Jobs In Colorado\n",
      "·\n",
      "Jobs In Alabama\n",
      "·\n",
      "Jobs In Arizona\n",
      "·\n",
      "Jobs In Arkansas\n",
      "Ad\n",
      "·\n",
      "https://www.receptix.com/\n",
      "▼\n",
      "English paragraph reading practice - Remote Work From Home.\n",
      "business g suite project collaboration management system work Jobs In United States. 8,000+ Remote Jobs 722 new, Simple Typing /Online Data Entry/ Remote/ WFH/ Part time Jobs. Work From Jobs Available. Find Jobs. Work From Home. Subscribe for latest Jobs. High Paying Jobs Apply.\n"
     ]
    }
   ],
   "source": [
    "pr='''Latest Vacancies Near You. High Paying Jobs For Freshers And Experienced. Apply Now. Search For business apps collaboration workspace system work in united states. Get Job Alert. Part Time Jobs. Appl\n",
    "y Online For Jobs. Current Job Openings. Fresher Jobs. Search For The Right Jobs.\n",
    "Jobs In California\n",
    "·\n",
    "Jobs In Colorado\n",
    "·\n",
    "Jobs In Alabama\n",
    "·\n",
    "Jobs In Arizona\n",
    "·\n",
    "Jobs In Arkansas\n",
    "Ad\n",
    "·\n",
    "https://www.receptix.com/\n",
    "▼\n",
    "English paragraph reading practice - Remote Work From Home.\n",
    "business g suite project collaboration management system work Jobs In United States. 8,000+ Remote Jobs 722 new, Simple Typing /Online Data Entry/ Remote/ WFH/ Part time Jobs. Work From Jobs Available. Find Jobs. Work From Home. Subscribe for latest Jobs. High Paying Jobs Apply.'''\n",
    "print( pr)"
   ]
  },
  {
   "cell_type": "code",
   "execution_count": 45,
   "id": "1c4e44b3",
   "metadata": {},
   "outputs": [
    {
     "name": "stdout",
     "output_type": "stream",
     "text": [
      "h\n"
     ]
    }
   ],
   "source": [
    "nm='whaT TYPE OF PROBLEM'\n",
    "print(nm[1])"
   ]
  },
  {
   "cell_type": "code",
   "execution_count": 50,
   "id": "2e34a8fb",
   "metadata": {},
   "outputs": [
    {
     "name": "stdout",
     "output_type": "stream",
     "text": [
      "om ot\n"
     ]
    }
   ],
   "source": [
    "x='o my go turula'\n",
    "print(x[0:10:2])"
   ]
  },
  {
   "cell_type": "code",
   "execution_count": 53,
   "id": "05582d8c",
   "metadata": {},
   "outputs": [
    {
     "data": {
      "text/plain": [
       "4"
      ]
     },
     "execution_count": 53,
     "metadata": {},
     "output_type": "execute_result"
    }
   ],
   "source": [
    "len('home')"
   ]
  },
  {
   "cell_type": "code",
   "execution_count": 9,
   "id": "b64481bb",
   "metadata": {
    "scrolled": true
   },
   "outputs": [
    {
     "name": "stdout",
     "output_type": "stream",
     "text": [
      "HELLOMYLOVE\n",
      "hellomylove\n",
      "HelloMyLo\n",
      "goMyLove\n",
      "['Hell', 'MyL', 've']\n"
     ]
    }
   ],
   "source": [
    " a='HelloMyLove'\n",
    "print(a.upper())   \n",
    "print(a.lower())\n",
    "print(a.rstrip(\"ve\"))\n",
    "print(a.replace(\"Hello\",\"go\"))\n",
    "print(a.split(\"o\"))"
   ]
  },
  {
   "cell_type": "code",
   "execution_count": 83,
   "id": "194ed082",
   "metadata": {},
   "outputs": [
    {
     "name": "stdout",
     "output_type": "stream",
     "text": [
      "Are you made aa\n",
      "       are you MADE aa        \n",
      "15\n",
      "30\n",
      "3\n",
      "True\n",
      "True\n"
     ]
    }
   ],
   "source": [
    "a='are you MADE aa'\n",
    "print(a.capitalize())\n",
    "print(a.center(30))\n",
    "print(len(a))\n",
    "print(len(a.center(30)))\n",
    "print(a.count('a'))\n",
    "print(a.endswith('aa'))\n",
    "print(a.endswith('u M',2,9))"
   ]
  },
  {
   "cell_type": "code",
   "execution_count": 85,
   "id": "bf46ec4c",
   "metadata": {},
   "outputs": [
    {
     "name": "stdout",
     "output_type": "stream",
     "text": [
      "20\n",
      "3\n",
      "-1\n"
     ]
    }
   ],
   "source": [
    "x= 'he is my boy, he is good in english '\n",
    "print(x.find(\"good\"))\n",
    "print(x.find(\"is\"))\n",
    "print(x.find(\"hindi\"))"
   ]
  },
  {
   "cell_type": "code",
   "execution_count": 10,
   "id": "e1bed95f",
   "metadata": {},
   "outputs": [
    {
     "name": "stdout",
     "output_type": "stream",
     "text": [
      "False\n"
     ]
    }
   ],
   "source": [
    "# ISALNUM = is all alphabets or numeric   \n",
    "# if x contain alphabet or numeric then true  or x contain another sign or space or etc then false\n",
    "x= 'He is my boy, he is good in english '\n",
    "print(x.isalnum())"
   ]
  },
  {
   "cell_type": "code",
   "execution_count": 2,
   "id": "db833d7a",
   "metadata": {},
   "outputs": [
    {
     "name": "stdout",
     "output_type": "stream",
     "text": [
      "False\n"
     ]
    }
   ],
   "source": [
    "x= 'He is my boy he is good in english987 '\n",
    "print(x.isalnum())"
   ]
  },
  {
   "cell_type": "markdown",
   "id": "13ec157f",
   "metadata": {},
   "source": [
    "                     next day     "
   ]
  },
  {
   "cell_type": "code",
   "execution_count": 4,
   "id": "5ebb1840",
   "metadata": {},
   "outputs": [
    {
     "name": "stdout",
     "output_type": "stream",
     "text": [
      "True\n",
      "True\n",
      "False\n"
     ]
    }
   ],
   "source": [
    "x= 'He is my boy he is good in english '\n",
    "y='He is my boy he is good in english 4 $ '\n",
    "z='He is my boy he is good in english \\n '\n",
    "print(x.isprintable())\n",
    "print(y.isprintable())\n",
    "print(z.isprintable())"
   ]
  },
  {
   "cell_type": "code",
   "execution_count": 3,
   "id": "150be489",
   "metadata": {},
   "outputs": [
    {
     "name": "stdout",
     "output_type": "stream",
     "text": [
      "False\n",
      "False\n",
      "True\n",
      "He Is My Boy  He Is Good In English \n",
      "hE iS mY boy  hE iS good iN eNGLISH \n"
     ]
    }
   ],
   "source": [
    "x='He is my BOY  he is GOOD in english '\n",
    "print(x.istitle())\n",
    "print(x.startswith(\"he\"))\n",
    "print(x.startswith(\"He\"))\n",
    "print(x.title())\n",
    "print(x.swapcase())\n",
    "# swapcase change the uppercase word to lower case and lower case word to upper case"
   ]
  },
  {
   "cell_type": "code",
   "execution_count": null,
   "id": "aeec40d4",
   "metadata": {},
   "outputs": [],
   "source": [
    "                             chpt 14 .....\n"
   ]
  },
  {
   "cell_type": "code",
   "execution_count": 4,
   "id": "956da929",
   "metadata": {},
   "outputs": [
    {
     "name": "stdout",
     "output_type": "stream",
     "text": [
      "enter a num\n",
      "GBDGFDJ\n"
     ]
    },
    {
     "ename": "ValueError",
     "evalue": "invalid literal for int() with base 10: 'GBDGFDJ'",
     "output_type": "error",
     "traceback": [
      "\u001b[1;31m---------------------------------------------------------------------------\u001b[0m",
      "\u001b[1;31mValueError\u001b[0m                                Traceback (most recent call last)",
      "Cell \u001b[1;32mIn[4], line 2\u001b[0m\n\u001b[0;32m      1\u001b[0m \u001b[38;5;28mprint\u001b[39m(\u001b[38;5;124m\"\u001b[39m\u001b[38;5;124menter a num\u001b[39m\u001b[38;5;124m\"\u001b[39m)\n\u001b[1;32m----> 2\u001b[0m x\u001b[38;5;241m=\u001b[39m\u001b[38;5;28;43mint\u001b[39;49m\u001b[43m(\u001b[49m\u001b[38;5;28;43minput\u001b[39;49m\u001b[43m(\u001b[49m\u001b[43m)\u001b[49m\u001b[43m)\u001b[49m\n\u001b[0;32m      3\u001b[0m \u001b[38;5;28;01mif\u001b[39;00m (x\u001b[38;5;241m<\u001b[39m\u001b[38;5;241m0\u001b[39m):\n\u001b[0;32m      4\u001b[0m     \u001b[38;5;28mprint\u001b[39m(\u001b[38;5;124m\"\u001b[39m\u001b[38;5;124mnum is negetive\u001b[39m\u001b[38;5;124m\"\u001b[39m)\n",
      "\u001b[1;31mValueError\u001b[0m: invalid literal for int() with base 10: 'GBDGFDJ'"
     ]
    }
   ],
   "source": [
    "print(\"enter a num\")\n",
    "x=int(input())\n",
    "if (x<0):\n",
    "    print(\"num is negetive\")\n",
    "else:\n",
    "    if (x==0):\n",
    "       print (\"num is zero\\n\")\n",
    "    elif (x>=1 and x<10): \n",
    "       print(\"num contain one digit \")\n",
    "    elif (x>=10 and x<100):\n",
    "       print(\"num has two digit\")\n",
    "       print(\"slice\")\n",
    "    elif(x>=100 and x<999):\n",
    "       print(\"num contain three digit\")\n",
    "    else:\n",
    "       print(\"num contain 4 or more then 4 digit\")\n"
   ]
  },
  {
   "cell_type": "code",
   "execution_count": 6,
   "id": "d49613d9",
   "metadata": {},
   "outputs": [
    {
     "ename": "IndentationError",
     "evalue": "unindent does not match any outer indentation level (<tokenize>, line 7)",
     "output_type": "error",
     "traceback": [
      "\u001b[1;36m  File \u001b[1;32m<tokenize>:7\u001b[1;36m\u001b[0m\n\u001b[1;33m    case _ if x !=90:\u001b[0m\n\u001b[1;37m    ^\u001b[0m\n\u001b[1;31mIndentationError\u001b[0m\u001b[1;31m:\u001b[0m unindent does not match any outer indentation level\n"
     ]
    }
   ],
   "source": [
    "x= int(input(\"enter the value of x: \"))\n",
    "match x:\n",
    " case 0:\n",
    "        print(\"x is zero\")\n",
    " case 4:\n",
    "        print(\"case is 4\")\n",
    "     case _ if x !=90:\n",
    "        print(x,\"is not 90\")\n",
    "     case _ if x !=80:\n",
    "        print(x,\"is not 80\")\n",
    "     case_:\n",
    "        print(x)\n"
   ]
  },
  {
   "cell_type": "code",
   "execution_count": 10,
   "id": "9a052aa9",
   "metadata": {},
   "outputs": [
    {
     "name": "stdout",
     "output_type": "stream",
     "text": [
      "50\n",
      "45\n",
      "40\n",
      "35\n",
      "30\n",
      "25\n",
      "20\n",
      "15\n"
     ]
    }
   ],
   "source": [
    " for i in range(50,14,-5):\n",
    "     print(i)"
   ]
  },
  {
   "cell_type": "code",
   "execution_count": 11,
   "id": "05a217e3",
   "metadata": {},
   "outputs": [
    {
     "name": "stdout",
     "output_type": "stream",
     "text": [
      "r\n",
      "a\n",
      "j\n",
      "a\n",
      " \n",
      "r\n",
      "a\n",
      "m\n"
     ]
    }
   ],
   "source": [
    "x= \"raja ram\"\n",
    "for i in x:\n",
    "    print(i)"
   ]
  },
  {
   "cell_type": "code",
   "execution_count": 23,
   "id": "feb451fe",
   "metadata": {},
   "outputs": [
    {
     "name": "stdout",
     "output_type": "stream",
     "text": [
      "s + i + y + a + , + r + a + m +   + , + h + a + n + u + m + a + n + "
     ]
    },
    {
     "data": {
      "text/plain": [
       "str"
      ]
     },
     "execution_count": 23,
     "metadata": {},
     "output_type": "execute_result"
    }
   ],
   "source": [
    "x= (\"siya,ram ,hanuman\")\n",
    "for i in x:\n",
    "    print(i , end =\" + \")\n",
    "    \n",
    "type(x)"
   ]
  },
  {
   "cell_type": "code",
   "execution_count": 24,
   "id": "0532f73f",
   "metadata": {},
   "outputs": [
    {
     "name": "stdout",
     "output_type": "stream",
     "text": [
      "siya,ram,hanuman + + "
     ]
    },
    {
     "data": {
      "text/plain": [
       "list"
      ]
     },
     "execution_count": 24,
     "metadata": {},
     "output_type": "execute_result"
    }
   ],
   "source": [
    "x=[\"siya,ram,hanuman\"]\n",
    "for i in x:\n",
    "    print(i , end = \" + + \")\n",
    "\n",
    "type(x)"
   ]
  },
  {
   "cell_type": "code",
   "execution_count": 2,
   "id": "4cb079d6",
   "metadata": {},
   "outputs": [
    {
     "name": "stdout",
     "output_type": "stream",
     "text": [
      "s\n",
      "i\n",
      "y\n",
      "a\n",
      ",\n",
      "r\n",
      "jai siya ram\n",
      "a\n",
      "m\n",
      ",\n",
      "h\n",
      "a\n",
      "n\n",
      "u\n",
      "m\n",
      "a\n",
      "n\n"
     ]
    }
   ],
   "source": [
    "x=[\"siya,ram,hanuman\"]\n",
    "for   nam in x:\n",
    "    for i in nam:\n",
    "        print(i)\n",
    "        if i==\"r\":\n",
    "         print(\"jai siya ram\")"
   ]
  },
  {
   "cell_type": "code",
   "execution_count": 7,
   "id": "f04971f5",
   "metadata": {},
   "outputs": [
    {
     "name": "stdout",
     "output_type": "stream",
     "text": [
      "0\n",
      "1\n",
      "2\n",
      "3\n",
      "4\n"
     ]
    }
   ],
   "source": [
    "i=0\n",
    "while (i<5):\n",
    "    print (i)\n",
    "    i = i+1  "
   ]
  },
  {
   "cell_type": "code",
   "execution_count": 5,
   "id": "5bcd524c",
   "metadata": {},
   "outputs": [
    {
     "name": "stdout",
     "output_type": "stream",
     "text": [
      "enter the num: 56\n",
      "enter the num again:34\n",
      "34\n",
      "enter the num again:20\n",
      "20\n",
      "enter the num again:19\n",
      "19\n"
     ]
    }
   ],
   "source": [
    "i= int(input(\"enter the num: \"))\n",
    "while (i>=20):\n",
    "        i=int(input(\"enter the num again:\"))\n",
    "        print(i)"
   ]
  },
  {
   "cell_type": "code",
   "execution_count": 6,
   "id": "76a406ae",
   "metadata": {},
   "outputs": [
    {
     "name": "stdout",
     "output_type": "stream",
     "text": [
      "5\n",
      "4\n",
      "3\n",
      "2\n",
      "1\n",
      " i has negetive \n"
     ]
    }
   ],
   "source": [
    "i=5\n",
    "while(i>0):\n",
    "    print(i)\n",
    "    i-=1\n",
    "else :\n",
    "    print(\" i has negetive \")"
   ]
  },
  {
   "cell_type": "code",
   "execution_count": 6,
   "id": "01f22851",
   "metadata": {},
   "outputs": [
    {
     "name": "stdout",
     "output_type": "stream",
     "text": [
      "0\n",
      "1\n",
      "2\n",
      "3\n",
      "4\n",
      "5\n",
      "6\n",
      "7\n",
      "8\n",
      "9\n",
      "10\n",
      "11\n",
      "12\n",
      "13\n",
      "14\n",
      "15\n",
      "16\n",
      "17\n",
      "18\n",
      "19\n",
      "20\n",
      "21\n",
      "22\n",
      "23\n",
      "24\n",
      "25\n",
      "26\n",
      "27\n",
      "28\n",
      "29\n",
      "30\n",
      "31\n",
      "32\n",
      "33\n",
      "34\n",
      "35\n",
      "36\n",
      "37\n",
      "38\n",
      "39\n",
      "40\n",
      "41\n",
      "42\n",
      "43\n",
      "44\n",
      "45\n",
      "46\n",
      "47\n",
      "48\n",
      "49\n",
      "50\n",
      "51\n",
      "52\n",
      "53\n",
      "54\n",
      "55\n",
      "56\n",
      "57\n",
      "58\n",
      "59\n",
      "60\n",
      "61\n",
      "62\n",
      "63\n",
      "64\n",
      "65\n",
      "66\n",
      "67\n",
      "68\n",
      "69\n",
      "70\n",
      "71\n",
      "72\n",
      "73\n",
      "74\n",
      "75\n",
      "76\n",
      "77\n",
      "78\n",
      "79\n",
      "80\n",
      "81\n",
      "82\n",
      "83\n",
      "84\n",
      "85\n",
      "86\n",
      "87\n",
      "88\n",
      "89\n",
      "90\n",
      "91\n",
      "92\n",
      "93\n",
      "94\n",
      "95\n",
      "96\n",
      "97\n",
      "98\n",
      "99\n"
     ]
    }
   ],
   "source": [
    "# do while ka emulate\n",
    "i=0\n",
    "while True:\n",
    "    print(i)\n",
    "    i=i+1\n",
    "    if (i%100==0):\n",
    "        break"
   ]
  },
  {
   "cell_type": "code",
   "execution_count": 2,
   "id": "5d1861d7",
   "metadata": {},
   "outputs": [
    {
     "name": "stdout",
     "output_type": "stream",
     "text": [
      "2.4\n",
      "3.076923076923077\n"
     ]
    }
   ],
   "source": [
    "def inv(a,b):\n",
    "   print(a*b/(a+b))\n",
    "    \n",
    "a=4\n",
    "b=6\n",
    "inv(a,b) \n",
    " \n",
    "a=5\n",
    "b=8\n",
    "inv(a,b)"
   ]
  },
  {
   "cell_type": "code",
   "execution_count": null,
   "id": "01fc66a5",
   "metadata": {},
   "outputs": [],
   "source": []
  },
  {
   "cell_type": "code",
   "execution_count": null,
   "id": "4aebcbd8",
   "metadata": {},
   "outputs": [],
   "source": []
  },
  {
   "cell_type": "code",
   "execution_count": null,
   "id": "b8f3ab61",
   "metadata": {},
   "outputs": [],
   "source": []
  },
  {
   "cell_type": "code",
   "execution_count": null,
   "id": "0fa82241",
   "metadata": {},
   "outputs": [],
   "source": []
  },
  {
   "cell_type": "code",
   "execution_count": null,
   "id": "2e0726d2",
   "metadata": {},
   "outputs": [],
   "source": []
  },
  {
   "cell_type": "code",
   "execution_count": null,
   "id": "8b164178",
   "metadata": {},
   "outputs": [],
   "source": []
  },
  {
   "cell_type": "code",
   "execution_count": null,
   "id": "40a0c4bc",
   "metadata": {},
   "outputs": [],
   "source": []
  },
  {
   "cell_type": "code",
   "execution_count": null,
   "id": "24150021",
   "metadata": {},
   "outputs": [],
   "source": [
    "\n"
   ]
  }
 ],
 "metadata": {
  "kernelspec": {
   "display_name": "Python 3 (ipykernel)",
   "language": "python",
   "name": "python3"
  },
  "language_info": {
   "codemirror_mode": {
    "name": "ipython",
    "version": 3
   },
   "file_extension": ".py",
   "mimetype": "text/x-python",
   "name": "python",
   "nbconvert_exporter": "python",
   "pygments_lexer": "ipython3",
   "version": "3.10.9"
  }
 },
 "nbformat": 4,
 "nbformat_minor": 5
}
