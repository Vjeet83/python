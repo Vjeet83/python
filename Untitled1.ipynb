{
 "cells": [
  {
   "cell_type": "code",
   "execution_count": 1,
   "id": "e6920d06",
   "metadata": {},
   "outputs": [
    {
     "name": "stdout",
     "output_type": "stream",
     "text": [
      "[12, 23, 34, 67, 78, 89, 90, 123]\n"
     ]
    }
   ],
   "source": [
    "lisst=[12,23,34,\"are\",\"rob\",67,78,89,90,123]\n",
    "lisst1=[]\n",
    "for i in lisst:\n",
    "#     print(i)\n",
    "    if (type(i) is int):\n",
    "        lisst1.append(i)      \n",
    "print(lisst1)        \n"
   ]
  },
  {
   "cell_type": "markdown",
   "id": "b3b99144",
   "metadata": {},
   "source": []
  },
  {
   "cell_type": "code",
   "execution_count": 2,
   "id": "fe951e81",
   "metadata": {},
   "outputs": [
    {
     "name": "stdout",
     "output_type": "stream",
     "text": [
      "gg\n",
      "gg\n",
      "it is palandrom\n"
     ]
    }
   ],
   "source": [
    "# check palandrom \n",
    "name=input()\n",
    "name_splt=name[::-1]\n",
    "print(name_splt)\n",
    "# print(type(name_splt))\n",
    "if(name==name_splt):\n",
    "    print(\"it is palandrom\")\n",
    "else:\n",
    "    print(\"it is not palandrom\")"
   ]
  },
  {
   "cell_type": "code",
   "execution_count": 3,
   "id": "915dd9ee",
   "metadata": {},
   "outputs": [
    {
     "name": "stdout",
     "output_type": "stream",
     "text": [
      "\n",
      "total count is 0\n"
     ]
    }
   ],
   "source": [
    "# count of  total vovel \n",
    "name=input()\n",
    "count=0\n",
    "for splt in name:\n",
    "#     print(splt)\n",
    "    if(splt==\"a\" or splt==\"e\" or splt==\"i\" or  splt==\"o\" or splt==\"u\"):\n",
    "        count+=1\n",
    "    \n",
    "print(\"total count is\",count)    \n",
    "   \n",
    " \n",
    "\n",
    " "
   ]
  },
  {
   "cell_type": "code",
   "execution_count": 4,
   "id": "a5532f3c",
   "metadata": {},
   "outputs": [
    {
     "name": "stdout",
     "output_type": "stream",
     "text": [
      "\n",
      "total count of a is 0\n",
      "total count of e is 0\n",
      "total count of i is 0\n",
      "total count of o is 0\n",
      "total count of u is 0\n"
     ]
    }
   ],
   "source": [
    "#    count every vovel saperatly\n",
    "stc=input()\n",
    "ct_a =0\n",
    "ct_e =0\n",
    "ct_i =0\n",
    "ct_o =0\n",
    "ct_u =0\n",
    "for splt in stc:\n",
    "    if (splt==\"a\" or splt==\"A\"):\n",
    "        ct_a +=1\n",
    "    elif(splt==\"e\" or splt==\"E\"):\n",
    "        ct_e +=1\n",
    "    elif(splt==\"i\" or splt==\"I\"):\n",
    "        ct_i +=1\n",
    "    elif(splt==\"o\" or splt==\"O\"):\n",
    "        ct_o +=1\n",
    "    elif(splt==\"u\" or splt==\"U\"):\n",
    "        ct_u +=1\n",
    "   \n",
    "print(\"total count of a is\",ct_a)\n",
    "print(\"total count of e is\",ct_e)\n",
    "print(\"total count of i is\",ct_i)\n",
    "print(\"total count of o is\",ct_o)\n",
    "print(\"total count of u is\",ct_u)"
   ]
  },
  {
   "cell_type": "code",
   "execution_count": 5,
   "id": "b44cf3d0",
   "metadata": {},
   "outputs": [
    {
     "name": "stdout",
     "output_type": "stream",
     "text": [
      "568\n",
      "568\n"
     ]
    }
   ],
   "source": [
    "words=input()\n",
    "new_word=\"\"\n",
    "\n",
    "for word in words:\n",
    "    if (word==\"a\" or word==\"e\" or word==\"i\" or word==\"o\" or word==\"u\"):\n",
    "        word= new_word+\"#\"\n",
    "#         \"e\"=\"#\"\n",
    "#         \"i\"=\"#\"\n",
    "#         \"o\"=\"#\"\n",
    "#         \"u\"=\"#\"\n",
    "    else:\n",
    "        word=new_word+word\n",
    "print(words)        \n",
    "    \n",
    "        \n",
    "    \n",
    "    "
   ]
  },
  {
   "cell_type": "code",
   "execution_count": 6,
   "id": "3fb7b1cd",
   "metadata": {},
   "outputs": [
    {
     "name": "stdout",
     "output_type": "stream",
     "text": [
      "96\n",
      "9\n",
      "6\n",
      "not palandrom\n"
     ]
    }
   ],
   "source": [
    "#question of palandrom by loop\n",
    "name=input()\n",
    "rev=\"\"\n",
    "for i in name:\n",
    "    rev=i+rev\n",
    "    print(i)\n",
    "if(name == rev):\n",
    "    print(\"palandrom\")\n",
    "else:\n",
    "    print(\"not palandrom\")\n",
    "    \n"
   ]
  },
  {
   "cell_type": "code",
   "execution_count": 7,
   "id": "ad116055",
   "metadata": {},
   "outputs": [
    {
     "name": "stdout",
     "output_type": "stream",
     "text": [
      "enter data  :66\\\n",
      "66\\\n"
     ]
    }
   ],
   "source": [
    "#question of relace vovels by #\n",
    "name=input(\"enter data  :\")\n",
    "name=name.lower()\n",
    "# print(name)\n",
    "voval=\"aeiou\"\n",
    "for x in name:\n",
    "    if x in voval:\n",
    "#         print(x)\n",
    "        name=name.replace(x,\"#\") \n",
    "\n",
    "\n",
    "print(name)"
   ]
  },
  {
   "cell_type": "code",
   "execution_count": 8,
   "id": "7594394b",
   "metadata": {},
   "outputs": [
    {
     "name": "stdout",
     "output_type": "stream",
     "text": [
      "[4, 9, 16, 25, 36]\n"
     ]
    }
   ],
   "source": [
    "meri_list = [2, 3, 4, \"shyam\", 5, 6, \"ram\"]\n",
    "sqr_list = []\n",
    "\n",
    "for indx in meri_list:\n",
    "    if isinstance(indx, int):\n",
    "        sqr_list.append(indx ** 2)\n",
    "\n",
    "print(sqr_list)\n"
   ]
  },
  {
   "cell_type": "code",
   "execution_count": 9,
   "id": "1a2acbf0",
   "metadata": {},
   "outputs": [
    {
     "name": "stdout",
     "output_type": "stream",
     "text": [
      "[4, 9, 16, 25, 36]\n"
     ]
    }
   ],
   "source": [
    "# question of square list by while loop\n",
    "mi_list=[2,3,4,\"shyam\",5,6,\"ram\"]\n",
    "squr_list=[]\n",
    "i=0\n",
    "while i<len(mi_list):\n",
    "    if type(mi_list[i]) == int:\n",
    "        squr_list.append(mi_list[i]**2)\n",
    "    i+=1\n",
    "print(squr_list)    \n"
   ]
  },
  {
   "cell_type": "code",
   "execution_count": 10,
   "id": "3265b88f",
   "metadata": {},
   "outputs": [
    {
     "name": "stdout",
     "output_type": "stream",
     "text": [
      "[4, 9, 16, 25, 36]\n"
     ]
    }
   ],
   "source": [
    "#question of square list by for loop\n",
    "meri_list = [2, 3, 4, \"shyam\", 5, 6, \"ram\"]\n",
    "sqr_list = []\n",
    "for indx in meri_list:\n",
    "    if type(indx) == int:\n",
    "        sqr_list.append(indx**2)\n",
    "print(sqr_list)\n"
   ]
  },
  {
   "cell_type": "code",
   "execution_count": 11,
   "id": "95fcb117",
   "metadata": {},
   "outputs": [
    {
     "name": "stdout",
     "output_type": "stream",
     "text": [
      "[4, 9, 16, 25, 36]\n"
     ]
    }
   ],
   "source": [
    "meri_list = [2, 3, 4, \"shyam\", 5, 6, \"ram\"]\n",
    "sqr_list = []\n",
    "\n",
    "for indx in meri_list:\n",
    "    if isinstance(indx, int):\n",
    "        sqr_list.append(indx ** 2)\n",
    "\n",
    "print(sqr_list)\n"
   ]
  },
  {
   "cell_type": "code",
   "execution_count": 24,
   "id": "2a11ec76",
   "metadata": {},
   "outputs": [
    {
     "name": "stdout",
     "output_type": "stream",
     "text": [
      "dgsac643$\n",
      "['d', 'g', 's', 'a', 'c', '6', '4', '3', '$']\n",
      "error in password\n"
     ]
    }
   ],
   "source": [
    "paswd=input()\n",
    "m_lst=[]\n",
    "for i in paswd:\n",
    "    m_lst.append(i)\n",
    "print(m_lst)    \n",
    "num='1234567890'\n",
    "char='abcdefghijklmnop'\n",
    "char2='cdefghijklmnopqrstuwxyz'\n",
    "sign='!@#$%^&*()_+|<>?\":;\\'\\'\"\\\\[]{}'\n",
    "if(num in m_lst and char in m_lst  and char2 in m_lst and sign in m_lst):\n",
    "    print(\"password is secure \")\n",
    "else:\n",
    "    print(\"error in password\")"
   ]
  },
  {
   "cell_type": "code",
   "execution_count": 30,
   "id": "b3d0f9a6",
   "metadata": {},
   "outputs": [
    {
     "data": {
      "text/plain": [
       "'snbs'"
      ]
     },
     "execution_count": 30,
     "metadata": {},
     "output_type": "execute_result"
    }
   ],
   "source": []
  },
  {
   "cell_type": "code",
   "execution_count": null,
   "id": "11c9a7a6",
   "metadata": {},
   "outputs": [],
   "source": []
  },
  {
   "cell_type": "code",
   "execution_count": null,
   "id": "389280b5",
   "metadata": {},
   "outputs": [],
   "source": []
  },
  {
   "cell_type": "code",
   "execution_count": null,
   "id": "028cee8d",
   "metadata": {},
   "outputs": [],
   "source": []
  },
  {
   "cell_type": "code",
   "execution_count": null,
   "id": "35bb80fe",
   "metadata": {},
   "outputs": [],
   "source": []
  },
  {
   "cell_type": "code",
   "execution_count": null,
   "id": "cc539d65",
   "metadata": {},
   "outputs": [],
   "source": []
  },
  {
   "cell_type": "code",
   "execution_count": null,
   "id": "d1e2e725",
   "metadata": {},
   "outputs": [],
   "source": []
  }
 ],
 "metadata": {
  "kernelspec": {
   "display_name": "Python 3 (ipykernel)",
   "language": "python",
   "name": "python3"
  },
  "language_info": {
   "codemirror_mode": {
    "name": "ipython",
    "version": 3
   },
   "file_extension": ".py",
   "mimetype": "text/x-python",
   "name": "python",
   "nbconvert_exporter": "python",
   "pygments_lexer": "ipython3",
   "version": "3.10.9"
  }
 },
 "nbformat": 4,
 "nbformat_minor": 5
}
