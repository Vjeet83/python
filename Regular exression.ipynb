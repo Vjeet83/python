{
 "cells": [
  {
   "cell_type": "markdown",
   "id": "992286ce",
   "metadata": {},
   "source": [
    "# Regular Expression"
   ]
  },
  {
   "cell_type": "code",
   "execution_count": 2,
   "id": "1a636428",
   "metadata": {},
   "outputs": [],
   "source": [
    "import re"
   ]
  },
  {
   "cell_type": "code",
   "execution_count": 3,
   "id": "94f2a876",
   "metadata": {},
   "outputs": [
    {
     "name": "stdout",
     "output_type": "stream",
     "text": [
      "<re.Match object; span=(1, 3), match='he'>\n",
      "yes  it is exist\n"
     ]
    }
   ],
   "source": [
    "txt = \"The rain in Spain\"\n",
    "x=re.search(\"he\",txt)\n",
    "if x:\n",
    "    print(x)\n",
    "    print(\"yes  it is exist\")\n",
    "else :\n",
    "    print(\"no\")"
   ]
  },
  {
   "cell_type": "code",
   "execution_count": 13,
   "id": "1e039c95",
   "metadata": {},
   "outputs": [
    {
     "name": "stdout",
     "output_type": "stream",
     "text": [
      "no\n"
     ]
    }
   ],
   "source": [
    "#  yaha  \" $ \" word  sentences ke last letter ko searc krne k lie use hota h\n",
    "txt = \"The rain in Spain\"\n",
    "x=re.search(\"The$\",txt)\n",
    "if x:\n",
    "    print(\"yes  it is exist\")\n",
    "else :\n",
    "    print(\"no\")"
   ]
  },
  {
   "cell_type": "code",
   "execution_count": 47,
   "id": "6f71ab9a",
   "metadata": {},
   "outputs": [
    {
     "name": "stdout",
     "output_type": "stream",
     "text": [
      "no\n"
     ]
    }
   ],
   "source": [
    "txt = \"The rain in Spain\"\n",
    "x = re.search(\"^The.*Spain$\", txt)\n",
    "\n",
    "if x:\n",
    "    print(\"yes  it is exist\")\n",
    "else :\n",
    "    print(\"no\")"
   ]
  },
  {
   "cell_type": "code",
   "execution_count": null,
   "id": "f5f177d8",
   "metadata": {},
   "outputs": [],
   "source": [
    "txt = \"The rain in Spain\"\n",
    "x = re.search(\"^The.*Spain$\", txt)\n",
    "\n",
    "if x:\n",
    "    print(\"yes  it is exist\")\n",
    "else :\n",
    "    print(\"no\")"
   ]
  },
  {
   "cell_type": "markdown",
   "id": "fda2ede0",
   "metadata": {},
   "source": [
    "# RegEx Functions\n",
    "## The re module offers a set of functions that allows us to search a string for a match:\n",
    "\n",
    "## Function    \tDescription\n",
    "\n",
    "### findall       = \tReturns a list containing all matches\n",
    "### search\t    =    Returns a Match object if there is a match anywhere in the string\n",
    "### split\t       =    Returns a list where the string has been split at each match\n",
    "### sub          =    Replaces one or many matches with a string\n"
   ]
  },
  {
   "cell_type": "markdown",
   "id": "ccd86d35",
   "metadata": {},
   "source": [
    "## The findall() Function\n",
    "#### The findall() function returns a list containing all matches.\n",
    "\n"
   ]
  },
  {
   "cell_type": "code",
   "execution_count": 52,
   "id": "b50a98bf",
   "metadata": {},
   "outputs": [
    {
     "name": "stdout",
     "output_type": "stream",
     "text": [
      "['ai', 'ai']\n"
     ]
    }
   ],
   "source": [
    "txt = \"The rain in Spain\"\n",
    "x = re.findall(\"ai\", txt)\n",
    "print(x)"
   ]
  },
  {
   "cell_type": "code",
   "execution_count": 56,
   "id": "75f71328",
   "metadata": {},
   "outputs": [
    {
     "name": "stdout",
     "output_type": "stream",
     "text": [
      "[]\n"
     ]
    }
   ],
   "source": [
    "# findall function return empty index if given letter is not exist in sentence\n",
    "\n",
    "txt = \" america , japan , canada \"\n",
    "x=re.findall('turki',txt)\n",
    "print(x)"
   ]
  },
  {
   "cell_type": "code",
   "execution_count": null,
   "id": "533bec0b",
   "metadata": {},
   "outputs": [],
   "source": []
  },
  {
   "cell_type": "markdown",
   "id": "9511abf9",
   "metadata": {},
   "source": [
    "## The Search() function"
   ]
  },
  {
   "cell_type": "code",
   "execution_count": 59,
   "id": "3d445995",
   "metadata": {},
   "outputs": [
    {
     "name": "stdout",
     "output_type": "stream",
     "text": [
      "The first white-space character is located in position: 3\n"
     ]
    }
   ],
   "source": [
    "## use of start with start \n",
    "import re\n",
    "txt = \"The rain in Spain\"\n",
    "x = re.search(\"\\s\", txt)\n",
    "## \\s  its mean space , it give the location af first space\n",
    "\n",
    "print(\"The first white-space character is located in position:\", x.start()) \n"
   ]
  },
  {
   "cell_type": "code",
   "execution_count": 60,
   "id": "43075d9a",
   "metadata": {},
   "outputs": [
    {
     "name": "stdout",
     "output_type": "stream",
     "text": [
      "The first white-space character is located in position: 4\n"
     ]
    }
   ],
   "source": [
    "import re\n",
    "txt = \"The rain in Spain\"\n",
    "x = re.search(\"r\", txt)\n",
    "\n",
    "print(\"The first white-space character is located in position:\", x.start()) \n"
   ]
  },
  {
   "cell_type": "code",
   "execution_count": 14,
   "id": "46e1c121",
   "metadata": {},
   "outputs": [
    {
     "name": "stdout",
     "output_type": "stream",
     "text": [
      "<re.Match object; span=(14, 17), match='fox'>\n"
     ]
    }
   ],
   "source": [
    "## if we search that latter which is not exist in given sentence then it return  => None\n",
    "txt =\"A quick brown fox jump over the lazy dog\"\n",
    "x= re.search('fox',txt)\n",
    "print(x)"
   ]
  },
  {
   "cell_type": "code",
   "execution_count": null,
   "id": "e21fba38",
   "metadata": {},
   "outputs": [],
   "source": []
  },
  {
   "cell_type": "code",
   "execution_count": null,
   "id": "8e777ff9",
   "metadata": {},
   "outputs": [],
   "source": []
  },
  {
   "cell_type": "markdown",
   "id": "66410bca",
   "metadata": {},
   "source": [
    "## The split() Function\n",
    "### The split() function returns a list where the string has been split at each match:"
   ]
  },
  {
   "cell_type": "code",
   "execution_count": 65,
   "id": "06d06397",
   "metadata": {},
   "outputs": [
    {
     "name": "stdout",
     "output_type": "stream",
     "text": [
      "['A', 'quick', 'brown', 'fox', 'jump', 'over', 'the', 'lazy', 'dog']\n"
     ]
    }
   ],
   "source": [
    "txt =\"A quick brown fox jump over the lazy dog\"\n",
    "x= re.split(\"\\s\",txt)\n",
    "## again here \\s  mean space \n",
    "print(x)"
   ]
  },
  {
   "cell_type": "code",
   "execution_count": 66,
   "id": "b356571a",
   "metadata": {},
   "outputs": [
    {
     "name": "stdout",
     "output_type": "stream",
     "text": [
      "['A', 'quick', 'brown', 'fox', 'jump', 'over', 'the', 'lazy', 'dog']\n"
     ]
    }
   ],
   "source": [
    "txt =\"A quick brown fox jump over the lazy dog\"\n",
    "x= re.split(\" \",txt)\n",
    "print(x)"
   ]
  },
  {
   "cell_type": "code",
   "execution_count": 68,
   "id": "1de9300a",
   "metadata": {},
   "outputs": [
    {
     "name": "stdout",
     "output_type": "stream",
     "text": [
      "['A quick brown fox jump', 'over the lazy dog']\n"
     ]
    }
   ],
   "source": [
    "txt =\"A quick brown fox jump  over the lazy dog\"\n",
    "x= re.split(\"\\s\\s\",txt)\n",
    "## again here \\s  mean space \n",
    "print(x)"
   ]
  },
  {
   "cell_type": "code",
   "execution_count": 15,
   "id": "725f76e7",
   "metadata": {},
   "outputs": [
    {
     "name": "stdout",
     "output_type": "stream",
     "text": [
      "['A quick brown fox jump', 'over the lazy dog']\n"
     ]
    }
   ],
   "source": [
    "txt =\"A quick brown fox jump  over the lazy dog\"\n",
    "x= re.split(\"  \",txt)\n",
    "\n",
    "print(x) "
   ]
  },
  {
   "cell_type": "code",
   "execution_count": 74,
   "id": "acfb4a52",
   "metadata": {},
   "outputs": [
    {
     "name": "stdout",
     "output_type": "stream",
     "text": [
      "['A', 'quick brown fox jump  over the lazy dog']\n"
     ]
    }
   ],
   "source": [
    "# Split the string only at the first occurrence:\n",
    "\n",
    "txt =\"A quick brown fox jump  over the lazy dog\"\n",
    "x = re.split(\"\\s\", txt,1 )\n",
    "print(x)"
   ]
  },
  {
   "cell_type": "code",
   "execution_count": 75,
   "id": "fc1c6705",
   "metadata": {},
   "outputs": [
    {
     "name": "stdout",
     "output_type": "stream",
     "text": [
      "['A', 'quick', 'brown fox jump  over the lazy dog']\n"
     ]
    }
   ],
   "source": [
    "# Split the string only at the second occurrence:\n",
    "\n",
    "txt =\"A quick brown fox jump  over the lazy dog\"\n",
    "x = re.split(\"\\s\", txt, 2)\n",
    "print(x)"
   ]
  },
  {
   "cell_type": "markdown",
   "id": "53e0bf16",
   "metadata": {},
   "source": [
    "## The sub() Function\n",
    "### The sub() function replaces the matches with the text of your choice:\n",
    "\n"
   ]
  },
  {
   "cell_type": "code",
   "execution_count": 79,
   "id": "4edecdfe",
   "metadata": {},
   "outputs": [
    {
     "name": "stdout",
     "output_type": "stream",
     "text": [
      "fuck is very importent , one needs fuck every day and night \n"
     ]
    }
   ],
   "source": [
    "txt =\"luck is very importent , one needs luck every day and night \"\n",
    "x=re.sub(\"l\", \"f\",txt )\n",
    "print(x)"
   ]
  },
  {
   "cell_type": "code",
   "execution_count": null,
   "id": "ad36fa45",
   "metadata": {},
   "outputs": [],
   "source": []
  },
  {
   "cell_type": "code",
   "execution_count": null,
   "id": "d0f72d12",
   "metadata": {},
   "outputs": [],
   "source": []
  },
  {
   "cell_type": "markdown",
   "id": "ec3444d2",
   "metadata": {},
   "source": [
    "## Match Object\n",
    "### A Match Object is an object containing information about the search and the result.\n",
    "\n",
    "#### Note: If there is no match, the value None will be returned, instead of the Match Object."
   ]
  },
  {
   "cell_type": "code",
   "execution_count": 80,
   "id": "c89307e0",
   "metadata": {},
   "outputs": [
    {
     "name": "stdout",
     "output_type": "stream",
     "text": [
      "<re.Match object; span=(5, 7), match='ai'>\n"
     ]
    }
   ],
   "source": [
    "import re\n",
    "\n",
    "#The search() function returns a Match object:\n",
    "\n",
    "txt = \"The rain in Spain\"\n",
    "x = re.search(\"ai\", txt)\n",
    "print(x)\n"
   ]
  },
  {
   "cell_type": "markdown",
   "id": "1be18a08",
   "metadata": {},
   "source": [
    "#### The Match object has properties and methods used to retrieve information about the search, and the result:\n",
    "\n",
    ".span() returns a tuple containing the start-, and end positions of the match.\n",
    ".string returns the string passed into the function\n",
    ".group() returns the part of the string where there was a match\n"
   ]
  },
  {
   "cell_type": "code",
   "execution_count": 83,
   "id": "55921630",
   "metadata": {},
   "outputs": [
    {
     "name": "stdout",
     "output_type": "stream",
     "text": [
      "(12, 17)\n"
     ]
    }
   ],
   "source": [
    "## Print the position (start- and end-position) of the first match occurrence.\n",
    "\n",
    "## The regular expression looks for any words that starts with an upper case \"S\":\n",
    "\n",
    "import re\n",
    "\n",
    "txt = \"The rain in Spain\"\n",
    "x = re.search(r\"\\bS\\w+\", txt)\n",
    "print(x.span())\n"
   ]
  },
  {
   "cell_type": "code",
   "execution_count": 85,
   "id": "5e71cc91",
   "metadata": {},
   "outputs": [
    {
     "name": "stdout",
     "output_type": "stream",
     "text": [
      "The rain in Spain\n"
     ]
    }
   ],
   "source": [
    "## Print the string passed into the function:\n",
    "\n",
    "import re\n",
    "\n",
    "txt = \"The rain in Spain\"\n",
    "x = re.search(r\"\\bS\\w+\", txt)\n",
    "print(x.string)\n"
   ]
  },
  {
   "cell_type": "code",
   "execution_count": 90,
   "id": "6a3dc3a7",
   "metadata": {},
   "outputs": [
    {
     "name": "stdout",
     "output_type": "stream",
     "text": [
      "Spain\n"
     ]
    }
   ],
   "source": [
    "## Print the part of the string where there was a match.\n",
    "\n",
    "##The regular expression looks for any words that starts with an upper case \"S\":\n",
    "\n",
    "import re\n",
    "\n",
    "txt = \"The Rain in Spain\"\n",
    "x = re.search(r\"\\bS\\w+\", txt)\n",
    "print(x.group())\n"
   ]
  },
  {
   "cell_type": "code",
   "execution_count": 92,
   "id": "1b2e1e33",
   "metadata": {},
   "outputs": [
    {
     "name": "stdout",
     "output_type": "stream",
     "text": [
      "Fox\n"
     ]
    }
   ],
   "source": [
    "txt = \"A Quivk brown Fox jump over the lazy Dog\"\n",
    "x = re.search(r\"\\bF\\w+\", txt)\n",
    "print(x.group())\n"
   ]
  },
  {
   "cell_type": "code",
   "execution_count": 93,
   "id": "3822b2aa",
   "metadata": {},
   "outputs": [
    {
     "ename": "AttributeError",
     "evalue": "'NoneType' object has no attribute 'group'",
     "output_type": "error",
     "traceback": [
      "\u001b[1;31m---------------------------------------------------------------------------\u001b[0m",
      "\u001b[1;31mAttributeError\u001b[0m                            Traceback (most recent call last)",
      "Cell \u001b[1;32mIn[93], line 3\u001b[0m\n\u001b[0;32m      1\u001b[0m txt \u001b[38;5;241m=\u001b[39m \u001b[38;5;124m\"\u001b[39m\u001b[38;5;124mA Quivk brown fox jump over the lazy Dog\u001b[39m\u001b[38;5;124m\"\u001b[39m\n\u001b[0;32m      2\u001b[0m x \u001b[38;5;241m=\u001b[39m re\u001b[38;5;241m.\u001b[39msearch(\u001b[38;5;124mr\u001b[39m\u001b[38;5;124m\"\u001b[39m\u001b[38;5;124m\\\u001b[39m\u001b[38;5;124mbF\u001b[39m\u001b[38;5;124m\\\u001b[39m\u001b[38;5;124mw+\u001b[39m\u001b[38;5;124m\"\u001b[39m, txt)\n\u001b[1;32m----> 3\u001b[0m \u001b[38;5;28mprint\u001b[39m(\u001b[43mx\u001b[49m\u001b[38;5;241;43m.\u001b[39;49m\u001b[43mgroup\u001b[49m())\n",
      "\u001b[1;31mAttributeError\u001b[0m: 'NoneType' object has no attribute 'group'"
     ]
    }
   ],
   "source": [
    "txt = \"A Quivk brown fox jump over the lazy Dog\"\n",
    "x = re.search(r\"\\bF\\w+\", txt)\n",
    "print(x.group())\n",
    "## it gie error because here f is not capital"
   ]
  },
  {
   "cell_type": "code",
   "execution_count": 95,
   "id": "2171cb61",
   "metadata": {},
   "outputs": [
    {
     "name": "stdout",
     "output_type": "stream",
     "text": [
      "Fast\n"
     ]
    }
   ],
   "source": [
    "txt = \"A Quivk brown Fast Fox jump over the lazy Dog\"\n",
    "x = re.search(r\"\\bF\\w+\", txt)\n",
    "print(x.group())\n",
    "## here two capital F "
   ]
  },
  {
   "cell_type": "code",
   "execution_count": null,
   "id": "3e277cad",
   "metadata": {},
   "outputs": [],
   "source": []
  },
  {
   "cell_type": "code",
   "execution_count": null,
   "id": "6c9a84ec",
   "metadata": {},
   "outputs": [],
   "source": []
  },
  {
   "cell_type": "markdown",
   "id": "3616f4a9",
   "metadata": {},
   "source": [
    "## Metacharacters\n",
    "### Metacharacters are characters with a special meaning:\n",
    "\n"
   ]
  },
  {
   "cell_type": "markdown",
   "id": "78bdc6b6",
   "metadata": {},
   "source": [
    "[]\tA set of characters\t\"[a-m]\"\t\n",
    "\\\tSignals a special sequence (can also be used to escape special characters)\t\"\\d\"\t\n",
    ".\tAny character (except newline character)\t\"he..o\"\t\n",
    "^\tStarts with\t\"^hello\"\t\n",
    "$\tEnds with\t\"planet$\"\t\n",
    "*\tZero or more occurrences\t\"he.*o\"\t\n",
    "+\tOne or more occurrences\t\"he.+o\"\t\n",
    "?\tZero or one occurrences\t\"he.?o\"\t\n",
    "{}\tExactly the specified number of occurrences\t\"he.{2}o\"\t\n",
    "|\tEither or\t\"falls|stays\"\t\n",
    "()\tCapture and group\t \t"
   ]
  },
  {
   "cell_type": "markdown",
   "id": "1a9933a5",
   "metadata": {},
   "source": [
    "## Special Sequences\n",
    "### A special sequence is a \\ followed by one of the characters in the list below, and has a special meaning:"
   ]
  },
  {
   "cell_type": "markdown",
   "id": "1b586d31",
   "metadata": {},
   "source": [
    "Character\tDescription\tExample\tTry it\n",
    "\\A\tReturns a match if the specified characters are at the beginning of the string\t\"\\AThe\"\t\n",
    "\\b\tReturns a match where the specified characters are at the beginning or at the end of a word\n",
    "(the \"r\" in the beginning is making sure that the string is being treated as a \"raw string\")\tr\"\\bain\"\n",
    "r\"ain\\b\"\t\n",
    "\\B Returns a match where the specified characters are present, but NOT at the beginning (or at the end) of a word\n",
    "(the \"r\" in the beginning is making sure that the string is being treated as a \"raw string\")\tr\"\\Bain\"\n",
    "r\"ain\\B\"\t\n",
    "\\d\tReturns a match where the string contains digits (numbers from \n",
    "0-9)\t\"\\d\"\t\n",
    "\\D\tReturns a match where the string DOES NOT contain digits\t\"\\D\"\t\n",
    "\\s\tReturns a match where the string contains a white space character\t\"\\s\"\t\n",
    "\\S\tReturns a match where the string DOES NOT contain a white space character\t\"\\S\"\t\n",
    "\\w\tReturns a match where the string contains any word characters (characters from a to Z, digits from 0-9, and the underscore _ character)\t\"\\w\"\t\n",
    "\\W\tReturns a match where the string DOES NOT contain any word characters\t\"\\W\"\t\n",
    "\\Z\tReturns a match if the specified characters are at the end of the string\t\"Spain\\Z\"\t\n"
   ]
  },
  {
   "cell_type": "code",
   "execution_count": null,
   "id": "6837871f",
   "metadata": {},
   "outputs": [],
   "source": []
  },
  {
   "cell_type": "markdown",
   "id": "22d6e0d8",
   "metadata": {},
   "source": [
    "## Sets\n",
    "### A set is a set of characters inside a pair of square brackets [] with a special meaning:\n",
    "\n"
   ]
  },
  {
   "cell_type": "markdown",
   "id": "00a60e8f",
   "metadata": {},
   "source": [
    "Set\tDescription\tTry it\n",
    "[arn]\tReturns a match where one of the specified characters (a, r, or n) is present\t\n",
    "[a-n]\tReturns a match for any lower case character, alphabetically between a and n\t\n",
    "[^arn]\tReturns a match for any character EXCEPT a, r, and n\t\n",
    "[0123]\tReturns a match where any of the specified digits (0, 1, 2, or 3) are present\t\n",
    "[0-9]\tReturns a match for any digit between 0 and 9\t\n",
    "[0-5][0-9]\tReturns a match for any two-digit numbers from 00 and 59\t\n",
    "[a-zA-Z]\tReturns a match for any character alphabetically between a and z, lower case OR upper case\t\n",
    "[+]\tIn sets, +, *, ., |, (), $,{} has no special meaning, so [+] means: return a match for any + character in the string\t\n"
   ]
  },
  {
   "cell_type": "code",
   "execution_count": 16,
   "id": "317c6ad1",
   "metadata": {},
   "outputs": [
    {
     "ename": "SyntaxError",
     "evalue": "invalid syntax (773403545.py, line 1)",
     "output_type": "error",
     "traceback": [
      "\u001b[1;36m  Cell \u001b[1;32mIn[16], line 1\u001b[1;36m\u001b[0m\n\u001b[1;33m    SELECT name FROM world WHERE population>(SELECT population FROM world where name =\"Canada\")  and population <(SELECT population  from world WHERE name =\"Poland\");\u001b[0m\n\u001b[1;37m           ^\u001b[0m\n\u001b[1;31mSyntaxError\u001b[0m\u001b[1;31m:\u001b[0m invalid syntax\n"
     ]
    }
   ],
   "source": [
    "SELECT name FROM world WHERE population>(SELECT population FROM world where name =\"Canada\")  and population <(SELECT population  from world WHERE name =\"Poland\");"
   ]
  },
  {
   "cell_type": "code",
   "execution_count": null,
   "id": "a2d2d5e2",
   "metadata": {},
   "outputs": [],
   "source": []
  }
 ],
 "metadata": {
  "kernelspec": {
   "display_name": "Python 3 (ipykernel)",
   "language": "python",
   "name": "python3"
  },
  "language_info": {
   "codemirror_mode": {
    "name": "ipython",
    "version": 3
   },
   "file_extension": ".py",
   "mimetype": "text/x-python",
   "name": "python",
   "nbconvert_exporter": "python",
   "pygments_lexer": "ipython3",
   "version": "3.10.9"
  }
 },
 "nbformat": 4,
 "nbformat_minor": 5
}
