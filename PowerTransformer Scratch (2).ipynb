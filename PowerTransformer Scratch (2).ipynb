{
 "cells": [
  {
   "cell_type": "markdown",
   "id": "a321c158",
   "metadata": {},
   "source": [
    "# What is Powertransformer in machine learning ?\n",
    "\n",
    "In machine learning, the PowerTransformer is a type of data preprocessing technique used to transform the features of a dataset to make them more Gaussian-like (more normally distributed).\n",
    "\n",
    "The PowerTransformer applies a power transformation to the data, which can either be the Yeo-Johnson transformation or the Box-Cox transformation, depending on the user's preference. These transformations adjust the skewness and kurtosis of the data, which can be useful in situations where the distribution of the data is not Gaussian.\n",
    "\n",
    "The PowerTransformer is particularly useful for machine learning algorithms that assume that the features are normally distributed, such as linear regression and logistic regression. By applying the PowerTransformer, the algorithm can better capture the underlying relationships between the features and the target variable, and potentially improve the accuracy of the model.\n",
    "\n",
    "It's important to note that the PowerTransformer should only be applied to the training data, and then the same transformation should be applied to the test data to avoid data leakage and ensure that the test data is not used to influence the transformation."
   ]
  },
  {
   "cell_type": "markdown",
   "id": "35abdbae",
   "metadata": {},
   "source": [
    "# How I decide where I hvae to use Box-cox and where I have to use yeo-johnson ? \n",
    "\n",
    "\n",
    "The choice between the Box-Cox and Yeo-Johnson transformations depends on the nature of your data and the assumptions of your statistical model. Here are some guidelines that can help you decide which transformation to use:\n",
    "\n",
    "Box-Cox: The Box-Cox transformation is appropriate for non-negative data that does not contain zero values. It assumes that the data follows a normal distribution and applies a power transformation to achieve normality. The Box-Cox transformation is a more rigid transformation compared to the Yeo-Johnson transformation, because it requires the data to be strictly positive and cannot handle zero values.\n",
    "\n",
    "Yeo-Johnson: The Yeo-Johnson transformation is a more flexible transformation that can be applied to both positive and negative data, including zero values. It also assumes that the data follows a normal distribution, but it applies a slightly different power transformation than the Box-Cox transformation. The Yeo-Johnson transformation is a more robust transformation that can handle a wider range of data types and distributions compared to the Box-Cox transformation.\n",
    "\n",
    "In general, it's a good idea to try both transformations and compare the results to see which one works better for your data and model. You can use the PowerTransformer class from the sklearn.preprocessing module in Python to apply either transformation. The PowerTransformer class can automatically select the best transformation based on the data type and distribution, or you can manually specify the transformation method using the method parameter.\n",
    "\n",
    "\n",
    "\n",
    "\n"
   ]
  },
  {
   "cell_type": "code",
   "execution_count": 1,
   "id": "eb1bd176",
   "metadata": {},
   "outputs": [
    {
     "name": "stdout",
     "output_type": "stream",
     "text": [
      "Original data:\n",
      " [[4.98320413]\n",
      " [1.80647391]\n",
      " [0.01569063]\n",
      " [3.50391244]\n",
      " [4.73893979]]\n",
      "Transformed data:\n",
      " [[ 1.58505003]\n",
      " [ 0.28226563]\n",
      " [-1.67971527]\n",
      " [ 1.11116128]\n",
      " [ 1.51658524]]\n"
     ]
    }
   ],
   "source": [
    "import numpy as np\n",
    "from sklearn.preprocessing import PowerTransformer\n",
    "\n",
    "# Generate some random data with a skewed distribution\n",
    "data = np.random.gamma(1, 2, size=(100, 1))\n",
    "\n",
    "# Instantiate a PowerTransformer object\n",
    "pt = PowerTransformer(method='yeo-johnson')\n",
    "\n",
    "# Fit the PowerTransformer to the data and transform it\n",
    "transformed_data = pt.fit_transform(data)\n",
    "\n",
    "# Print the original and transformed data to compare\n",
    "print('Original data:\\n', data[:5])\n",
    "print('Transformed data:\\n', transformed_data[:5])\n"
   ]
  },
  {
   "cell_type": "code",
   "execution_count": 2,
   "id": "a5f98514",
   "metadata": {},
   "outputs": [
    {
     "name": "stdout",
     "output_type": "stream",
     "text": [
      "Original data:\n",
      " [[0.62255422]\n",
      " [5.60749844]\n",
      " [2.49352558]\n",
      " [0.52492817]\n",
      " [4.64020634]]\n",
      "Transformed data:\n",
      " [[-0.55563444]\n",
      " [ 1.40234104]\n",
      " [ 0.56793499]\n",
      " [-0.67145633]\n",
      " [ 1.19380495]]\n"
     ]
    }
   ],
   "source": [
    "import numpy as np\n",
    "from sklearn.preprocessing import PowerTransformer\n",
    "\n",
    "# Generate some random data with a skewed distribution\n",
    "data = np.random.gamma(1, 2, size=(100, 1))\n",
    "\n",
    "# Instantiate a PowerTransformer object\n",
    "pt = PowerTransformer(method='box-cox')\n",
    "\n",
    "# Fit the PowerTransformer to the data and transform it\n",
    "transformed_data = pt.fit_transform(data)\n",
    "\n",
    "# Print the original and transformed data to compare\n",
    "print('Original data:\\n', data[:5])\n",
    "print('Transformed data:\\n', transformed_data[:5])"
   ]
  },
  {
   "cell_type": "markdown",
   "id": "a7f42d75",
   "metadata": {},
   "source": [
    "# What does random.gamma() ? \n",
    "\n",
    "\n",
    "numpy.random.gamma is a NumPy function that generates random numbers drawn from a Gamma distribution.\n",
    "\n",
    "The Gamma distribution is a continuous probability distribution that is used to model the distribution of positive-valued random variables that have a skewed distribution. The Gamma distribution has two parameters: shape (also known as the alpha parameter) and scale (also known as the beta parameter).\n",
    "\n",
    "The numpy.random.gamma function generates random numbers from the Gamma distribution using these two parameters. Specifically, it takes the following parameters:\n",
    "\n",
    "shape: the shape of the Gamma distribution (alpha parameter)\n",
    "scale: the scale of the Gamma distribution (beta parameter)\n",
    "size: the size of the output array (optional)\n",
    "    \n",
    "    \n",
    "    \n",
    "    "
   ]
  },
  {
   "cell_type": "code",
   "execution_count": 16,
   "id": "200b9c01",
   "metadata": {},
   "outputs": [
    {
     "name": "stdout",
     "output_type": "stream",
     "text": [
      "[0.84264269 0.38232282 2.67743408 1.42567056 1.11139235 3.1598081\n",
      " 0.0530802  0.35753504 0.98915606 1.46275838]\n"
     ]
    }
   ],
   "source": [
    "import numpy as np\n",
    "\n",
    "# Generate random numbers from the Gamma distribution\n",
    "shape = 1\n",
    "scale = 2\n",
    "size = (10, )\n",
    "data = np.random.gamma(shape, scale, size)\n",
    "\n",
    "print(data)\n"
   ]
  },
  {
   "cell_type": "code",
   "execution_count": 17,
   "id": "5cf69935",
   "metadata": {},
   "outputs": [],
   "source": [
    "import matplotlib.pyplot as plt \n",
    "import seaborn as sns"
   ]
  },
  {
   "cell_type": "code",
   "execution_count": 18,
   "id": "89903efc",
   "metadata": {},
   "outputs": [
    {
     "name": "stderr",
     "output_type": "stream",
     "text": [
      "C:\\Users\\saurabh\\anaconda3\\lib\\site-packages\\seaborn\\distributions.py:2619: FutureWarning: `distplot` is a deprecated function and will be removed in a future version. Please adapt your code to use either `displot` (a figure-level function with similar flexibility) or `histplot` (an axes-level function for histograms).\n",
      "  warnings.warn(msg, FutureWarning)\n"
     ]
    },
    {
     "data": {
      "text/plain": [
       "<AxesSubplot:ylabel='Density'>"
      ]
     },
     "execution_count": 18,
     "metadata": {},
     "output_type": "execute_result"
    },
    {
     "data": {
      "image/png": "[encoded data removed]",
      "text/plain": [
       "<Figure size 432x288 with 1 Axes>"
      ]
     },
     "metadata": {
      "needs_background": "light"
     },
     "output_type": "display_data"
    }
   ],
   "source": [
    "sns.distplot(data)"
   ]
  },
  {
   "cell_type": "code",
   "execution_count": 9,
   "id": "e0cb2f44",
   "metadata": {},
   "outputs": [],
   "source": [
    "import numpy as np\n",
    "from sklearn.preprocessing import PowerTransformer\n",
    "from sklearn.model_selection import train_test_split\n",
    "from sklearn.linear_model import LinearRegression\n",
    "\n",
    "# Create a synthetic dataset\n",
    "X = np.random.normal(loc=100, scale=10, size=(1000, 5))\n",
    "y = np.random.normal(loc=100, scale=10, size=1000)\n",
    "\n",
    "# Split the data into training and testing sets\n",
    "X_train, X_test, y_train, y_test = train_test_split(X, y, test_size=0.2, random_state=42)\n"
   ]
  },
  {
   "cell_type": "code",
   "execution_count": 10,
   "id": "a55be268",
   "metadata": {},
   "outputs": [],
   "source": [
    "# Fit and transform the data using Box-Cox method\n",
    "boxcox_transformer = PowerTransformer(method='box-cox', standardize=True)\n",
    "X_train_bc = boxcox_transformer.fit_transform(X_train)\n",
    "X_test_bc = boxcox_transformer.transform(X_test)\n",
    "\n",
    "# Fit and transform the data using Yeo-Johnson method\n",
    "yeojohnson_transformer = PowerTransformer(method='yeo-johnson', standardize=True)\n",
    "X_train_yj = yeojohnson_transformer.fit_transform(X_train)\n",
    "X_test_yj = yeojohnson_transformer.transform(X_test)\n",
    "\n"
   ]
  },
  {
   "cell_type": "code",
   "execution_count": 11,
   "id": "8a37f45f",
   "metadata": {},
   "outputs": [
    {
     "data": {
      "text/plain": [
       "LinearRegression()"
      ]
     },
     "execution_count": 11,
     "metadata": {},
     "output_type": "execute_result"
    }
   ],
   "source": [
    "# Train a linear regression model using Box-Cox transformed data\n",
    "model_bc = LinearRegression()\n",
    "model_bc.fit(X_train_bc, y_train)\n",
    "\n",
    "# Train a linear regression model using Yeo-Johnson transformed data\n",
    "model_yj = LinearRegression()\n",
    "model_yj.fit(X_train_yj, y_train)"
   ]
  },
  {
   "cell_type": "code",
   "execution_count": 12,
   "id": "a7a13abc",
   "metadata": {},
   "outputs": [
    {
     "name": "stdout",
     "output_type": "stream",
     "text": [
      "Box-Cox method score: -0.026\n",
      "Yeo-Johnson method score: -0.026\n"
     ]
    }
   ],
   "source": [
    "# Evaluate the models on the testing data\n",
    "score_bc = model_bc.score(X_test_bc, y_test)\n",
    "score_yj = model_yj.score(X_test_yj, y_test)\n",
    "\n",
    "print(f\"Box-Cox method score: {score_bc:.3f}\")\n",
    "print(f\"Yeo-Johnson method score: {score_yj:.3f}\")\n"
   ]
  },
  {
   "cell_type": "code",
   "execution_count": null,
   "id": "273d2a37",
   "metadata": {},
   "outputs": [],
   "source": []
  },
  {
   "cell_type": "code",
   "execution_count": 13,
   "id": "87f074c0",
   "metadata": {},
   "outputs": [
    {
     "name": "stdout",
     "output_type": "stream",
     "text": [
      "Box-Cox method score: 0.019\n",
      "Yeo-Johnson method score: 0.016\n"
     ]
    },
    {
     "data": {
      "image/png": "[encoded data removed]",
      "text/plain": [
       "<Figure size 576x432 with 1 Axes>"
      ]
     },
     "metadata": {
      "needs_background": "light"
     },
     "output_type": "display_data"
    }
   ],
   "source": [
    "import numpy as np\n",
    "import matplotlib.pyplot as plt\n",
    "from sklearn.preprocessing import PowerTransformer\n",
    "from sklearn.model_selection import train_test_split\n",
    "from sklearn.linear_model import LinearRegression\n",
    "\n",
    "# Create a synthetic dataset with non-linear relationship\n",
    "X = np.linspace(0.1, 10, 1000).reshape(-1, 1)\n",
    "y = np.sin(X) + np.random.normal(scale=0.1, size=(1000, 1))\n",
    "\n",
    "# Split the data into training and testing sets\n",
    "X_train, X_test, y_train, y_test = train_test_split(X, y, test_size=0.2, random_state=42)\n",
    "\n",
    "# Fit and transform the data using Box-Cox method\n",
    "boxcox_transformer = PowerTransformer(method='box-cox', standardize=True)\n",
    "X_train_bc = boxcox_transformer.fit_transform(X_train)\n",
    "X_test_bc = boxcox_transformer.transform(X_test)\n",
    "\n",
    "# Fit and transform the data using Yeo-Johnson method\n",
    "yeojohnson_transformer = PowerTransformer(method='yeo-johnson', standardize=True)\n",
    "X_train_yj = yeojohnson_transformer.fit_transform(X_train)\n",
    "X_test_yj = yeojohnson_transformer.transform(X_test)\n",
    "\n",
    "# Train a linear regression model using Box-Cox transformed data\n",
    "model_bc = LinearRegression()\n",
    "model_bc.fit(X_train_bc, y_train)\n",
    "\n",
    "# Train a linear regression model using Yeo-Johnson transformed data\n",
    "model_yj = LinearRegression()\n",
    "model_yj.fit(X_train_yj, y_train)\n",
    "\n",
    "# Evaluate the models on the testing data\n",
    "score_bc = model_bc.score(X_test_bc, y_test)\n",
    "score_yj = model_yj.score(X_test_yj, y_test)\n",
    "\n",
    "print(f\"Box-Cox method score: {score_bc:.3f}\")\n",
    "print(f\"Yeo-Johnson method score: {score_yj:.3f}\")\n",
    "\n",
    "# Plot the data and the models\n",
    "fig, ax = plt.subplots(figsize=(8, 6))\n",
    "ax.scatter(X_test, y_test, alpha=0.5, label='Test data')\n",
    "\n",
    "# Plot the Box-Cox model\n",
    "x_bc = boxcox_transformer.transform(X)\n",
    "y_bc_pred = model_bc.predict(x_bc)\n",
    "ax.plot(X, y_bc_pred, 'r-', label='Box-Cox model')\n",
    "\n",
    "# Plot the Yeo-Johnson model\n",
    "x_yj = yeojohnson_transformer.transform(X)\n",
    "y_yj_pred = model_yj.predict(x_yj)\n",
    "ax.plot(X, y_yj_pred, 'g-', label='Yeo-Johnson model')\n",
    "\n",
    "ax.legend()\n",
    "plt.show()\n"
   ]
  },
  {
   "cell_type": "code",
   "execution_count": null,
   "id": "eff79154",
   "metadata": {},
   "outputs": [],
   "source": []
  }
 ],
 "metadata": {
  "kernelspec": {
   "display_name": "Python 3 (ipykernel)",
   "language": "python",
   "name": "python3"
  },
  "language_info": {
   "codemirror_mode": {
    "name": "ipython",
    "version": 3
   },
   "file_extension": ".py",
   "mimetype": "text/x-python",
   "name": "python",
   "nbconvert_exporter": "python",
   "pygments_lexer": "ipython3",
   "version": "3.9.12"
  }
 },
 "nbformat": 4,
 "nbformat_minor": 5
}
