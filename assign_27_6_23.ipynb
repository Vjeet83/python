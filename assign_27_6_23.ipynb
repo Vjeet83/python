{
 "cells": [
  {
   "cell_type": "code",
   "execution_count": null,
   "id": "92a6ede0",
   "metadata": {},
   "outputs": [],
   "source": [
    "#   H. C. F.  \n",
    "def LCM(x,y):\n",
    "    if(x<y):\n",
    "        temp=x\n",
    "    else:\n",
    "        temp=y\n",
    "    while (temp>=1):\n",
    "#         print(temp)\n",
    "        if(x%temp==0 and y%temp==0):\n",
    "            break\n",
    "        temp-=1\n",
    "    return temp\n",
    "\n",
    "x=int(input())\n",
    "y=int(input())\n",
    "result=LCM(x,y)\n",
    "print(result)"
   ]
  },
  {
   "cell_type": "code",
   "execution_count": null,
   "id": "473cdc71",
   "metadata": {},
   "outputs": [],
   "source": [
    "# Lcm\n",
    "def LCM(x,y):\n",
    "    i=1\n",
    "    temp=0\n",
    "    while True:\n",
    "         if(i%x==0 and i%y==0):\n",
    "                temp=i\n",
    "                break\n",
    "         i+=1       \n",
    "    return temp\n",
    "\n",
    "x=int(input())\n",
    "y=int(input())\n",
    "result=LCM(x,y)\n",
    "print(result)"
   ]
  },
  {
   "cell_type": "code",
   "execution_count": 1,
   "id": "f8f6fce7",
   "metadata": {},
   "outputs": [
    {
     "name": "stdout",
     "output_type": "stream",
     "text": [
      "     ** \n",
      "    **** \n",
      "   ****** \n",
      "  ******** \n",
      " ********** \n",
      "  ********\n",
      "   ******\n",
      "    ****\n",
      "     **\n"
     ]
    }
   ],
   "source": [
    " y=5\n",
    "for row in range(y):\n",
    "    for clm in range(y,row,-1):\n",
    "        print(\" \",end=\"\")\n",
    "#     print()\n",
    "    for clm in range(0,clm*2):\n",
    "        print(\"*\",end=\"\")\n",
    "    print(\" \")\n",
    "for rw in range(1,y):\n",
    "    print(\" \",end=\"\")\n",
    "    for colm in range(0,rw):\n",
    "        print(\" \",end=\"\")\n",
    "    for colm in range(rw,y,1):\n",
    "        print(\"**\",end=\"\")\n",
    "    print()\n",
    "# print(\" \"*(y-1),\"*\")\n",
    "    "
   ]
  },
  {
   "cell_type": "code",
   "execution_count": 8,
   "id": "3b73ddc2",
   "metadata": {},
   "outputs": [
    {
     "name": "stdout",
     "output_type": "stream",
     "text": [
      "byharonuto\n",
      "ebyharonutoy\n"
     ]
    }
   ],
   "source": [
    "# task  (28/06/23)\n",
    "def ques(string):\n",
    "    voval=(\"a\",\"e\",\"i\",\"o\",\"u\",\"A\",\"E\",\"I\",\"U\",\"O\")\n",
    "    if (string[2] in voval):\n",
    "           string=string+\"ing\"\n",
    "    else:\n",
    "           string=\"e\"+string+\"y\"\n",
    "    return string\n",
    "\n",
    "string=input()\n",
    "string=ques(string)\n",
    "print(string)           \n",
    "           \n",
    "    "
   ]
  },
  {
   "cell_type": "code",
   "execution_count": null,
   "id": "9202d2f9",
   "metadata": {},
   "outputs": [],
   "source": []
  }
 ],
 "metadata": {
  "kernelspec": {
   "display_name": "Python 3 (ipykernel)",
   "language": "python",
   "name": "python3"
  },
  "language_info": {
   "codemirror_mode": {
    "name": "ipython",
    "version": 3
   },
   "file_extension": ".py",
   "mimetype": "text/x-python",
   "name": "python",
   "nbconvert_exporter": "python",
   "pygments_lexer": "ipython3",
   "version": "3.10.9"
  }
 },
 "nbformat": 4,
 "nbformat_minor": 5
}
