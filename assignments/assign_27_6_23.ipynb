{
 "cells": [
  {
   "cell_type": "code",
   "execution_count": null,
   "id": "cd6d732d",
   "metadata": {},
   "outputs": [],
   "source": [
    "#   H. C. F.  \n",
    "def LCM(x,y):\n",
    "    if(x<y):\n",
    "        temp=x\n",
    "    else:\n",
    "        temp=y\n",
    "    while (temp>=1):\n",
    "#         print(temp)\n",
    "        if(x%temp==0 and y%temp==0):\n",
    "            break\n",
    "        temp-=1\n",
    "    return temp\n",
    "\n",
    "x=int(input())\n",
    "y=int(input())\n",
    "result=LCM(x,y)\n",
    "print(result)"
   ]
  },
  {
   "cell_type": "code",
   "execution_count": null,
   "id": "63e3ce5b",
   "metadata": {},
   "outputs": [],
   "source": [
    "# Lcm\n",
    "def LCM(x,y):\n",
    "    i=1\n",
    "    temp=0\n",
    "    while True:\n",
    "         if(i%x==0 and i%y==0):\n",
    "                temp=i\n",
    "                break\n",
    "         i+=1       \n",
    "    return temp\n",
    "\n",
    "x=int(input())\n",
    "y=int(input())\n",
    "result=LCM(x,y)\n",
    "print(result)"
   ]
  }
 ],
 "metadata": {
  "kernelspec": {
   "display_name": "Python 3 (ipykernel)",
   "language": "python",
   "name": "python3"
  },
  "language_info": {
   "codemirror_mode": {
    "name": "ipython",
    "version": 3
   },
   "file_extension": ".py",
   "mimetype": "text/x-python",
   "name": "python",
   "nbconvert_exporter": "python",
   "pygments_lexer": "ipython3",
   "version": "3.10.9"
  }
 },
 "nbformat": 4,
 "nbformat_minor": 5
}
