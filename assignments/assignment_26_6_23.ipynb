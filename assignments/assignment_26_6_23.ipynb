{
 "cells": [
  {
   "cell_type": "markdown",
   "id": "0cf05cf8",
   "metadata": {},
   "source": [
    "# verticle triangle patern"
   ]
  },
  {
   "cell_type": "code",
   "execution_count": 14,
   "id": "5e5355c5",
   "metadata": {},
   "outputs": [
    {
     "name": "stdout",
     "output_type": "stream",
     "text": [
      "8\n",
      "\n",
      "\n",
      "* \n",
      "* * \n",
      "* * * \n",
      "* * * * \n",
      "* * * * \n",
      "* * * \n",
      "* * \n",
      "* "
     ]
    }
   ],
   "source": [
    "verticl_tringl=int(input())\n",
    "if verticl_tringl%2!=0:\n",
    "    for row in range(verticl_tringl+1):\n",
    "        print()\n",
    "        if (row<=(verticl_tringl+1)/2):   \n",
    "            for clm in range(row):        \n",
    "                print(\"*\",end=\" \")\n",
    "        else:\n",
    "            for clm in range(verticl_tringl+1-row):\n",
    "                print(\"*\",end=\" \")\n",
    "else:\n",
    "    for row in  range(verticl_tringl+1):\n",
    "        print()\n",
    "        if(row<=(verticl_tringl)/2):\n",
    "            for clm in range(row):\n",
    "                print(\"*\",end=\" \")\n",
    "        else:\n",
    "            for clm in range(verticl_tringl+1-row):\n",
    "                print(\"*\",end=\" \")\n",
    "                \n",
    "            "
   ]
  },
  {
   "cell_type": "markdown",
   "id": "97ce5e70",
   "metadata": {},
   "source": [
    "# patern\n",
    "   1\n",
    "   *\n",
    "   2\n",
    "   **"
   ]
  },
  {
   "cell_type": "code",
   "execution_count": null,
   "id": "726f869b",
   "metadata": {},
   "outputs": [],
   "source": [
    "num=int(input())\n",
    "for row in range(num+1):\n",
    "    print(row )\n",
    "    for clm in range(row):\n",
    "        print(\"*\",end=\" \")\n",
    "    print()"
   ]
  },
  {
   "cell_type": "markdown",
   "id": "7491b95b",
   "metadata": {},
   "source": [
    "## patern of square by * "
   ]
  },
  {
   "cell_type": "code",
   "execution_count": null,
   "id": "f8dd3172",
   "metadata": {},
   "outputs": [],
   "source": [
    "numb=int(input())\n",
    "for row in range(numb):\n",
    "    if(row==0 or row==numb-1):\n",
    "        for clm in range(numb+1):\n",
    "            print(\"*\",end=\"\")\n",
    "        print()    \n",
    "    else:\n",
    "        for clm in range(numb+1):\n",
    "            if(clm==0 or clm==numb):\n",
    "                print(\"*\",end=\" \")\n",
    "            else:\n",
    "                print(\" \",end=\"\")\n",
    "        print()        \n"
   ]
  },
  {
   "cell_type": "markdown",
   "id": "dc3ee005",
   "metadata": {},
   "source": [
    "  ## type \" * \"    (number * number) times                          "
   ]
  },
  {
   "cell_type": "code",
   "execution_count": null,
   "id": "48c76bc0",
   "metadata": {},
   "outputs": [],
   "source": [
    "num=int(input())\n",
    "for row in range(num+1):\n",
    "    print(row)\n",
    "    for clm in range(row**2):\n",
    "        print(\"*\",end=\"  \")\n",
    "    print()    \n",
    "        "
   ]
  }
 ],
 "metadata": {
  "kernelspec": {
   "display_name": "Python 3 (ipykernel)",
   "language": "python",
   "name": "python3"
  },
  "language_info": {
   "codemirror_mode": {
    "name": "ipython",
    "version": 3
   },
   "file_extension": ".py",
   "mimetype": "text/x-python",
   "name": "python",
   "nbconvert_exporter": "python",
   "pygments_lexer": "ipython3",
   "version": "3.10.9"
  }
 },
 "nbformat": 4,
 "nbformat_minor": 5
}
